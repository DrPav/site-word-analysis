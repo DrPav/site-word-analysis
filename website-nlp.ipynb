{
 "cells": [
  {
   "cell_type": "code",
   "execution_count": 35,
   "metadata": {},
   "outputs": [],
   "source": [
    "# Clustering requires a pre trained language model\n",
    "#!pip install  https://github.com/explosion/spacy-models/releases/download/en_core_web_md-2.2.5/en_core_web_md-2.2.5.tar.gz"
   ]
  },
  {
   "cell_type": "code",
   "execution_count": 2,
   "metadata": {},
   "outputs": [],
   "source": [
    "import requests\n",
    "from bs4 import BeautifulSoup\n",
    "import spacy\n",
    "import pandas as pd\n",
    "import numpy as np\n",
    "from sklearn.cluster import KMeans\n",
    "from scipy.spatial.distance import euclidean\n",
    "from sklearn.decomposition import PCA\n",
    "import plotly.express as px\n",
    "import os"
   ]
  },
  {
   "cell_type": "markdown",
   "metadata": {},
   "source": [
    "# Download text from a website"
   ]
  },
  {
   "cell_type": "code",
   "execution_count": 3,
   "metadata": {},
   "outputs": [],
   "source": [
    "r = requests.get('https://www.bbc.co.uk/news')"
   ]
  },
  {
   "cell_type": "code",
   "execution_count": 4,
   "metadata": {},
   "outputs": [
    {
     "data": {
      "text/plain": [
       "200"
      ]
     },
     "execution_count": 4,
     "metadata": {},
     "output_type": "execute_result"
    }
   ],
   "source": [
    "r.status_code"
   ]
  },
  {
   "cell_type": "code",
   "execution_count": 5,
   "metadata": {},
   "outputs": [
    {
     "data": {
      "text/plain": [
       "'utf-8'"
      ]
     },
     "execution_count": 5,
     "metadata": {},
     "output_type": "execute_result"
    }
   ],
   "source": [
    "r.encoding"
   ]
  },
  {
   "cell_type": "code",
   "execution_count": 6,
   "metadata": {},
   "outputs": [],
   "source": [
    "soup = BeautifulSoup(r.content, 'html.parser')"
   ]
  },
  {
   "cell_type": "code",
   "execution_count": 7,
   "metadata": {},
   "outputs": [],
   "source": [
    "text = soup.get_text()"
   ]
  },
  {
   "cell_type": "code",
   "execution_count": 8,
   "metadata": {},
   "outputs": [],
   "source": [
    "def get_text(url):\n",
    "    r = requests.get(url)\n",
    "    if r.status_code != 200:\n",
    "        return('Status code: ' + str(r.status_code))\n",
    "    text = BeautifulSoup(r.content, 'html.parser').get_text()\n",
    "    return(text)"
   ]
  },
  {
   "cell_type": "code",
   "execution_count": 9,
   "metadata": {},
   "outputs": [],
   "source": [
    "# Test some common sites\n",
    "urls = ['https://www.bbc.co.uk/news',\n",
    "       'https://en.wikipedia.org/wiki/2019%E2%80%9320_coronavirus_pandemic',\n",
    "       'https://www.amazon.co.uk/',\n",
    "       'https://towardsdatascience.com/',\n",
    "       'https://stackoverflow.com/',\n",
    "       'https://www.reddit.com/',\n",
    "       'https://www.hotukdeals.com/',\n",
    "       'https://www.gov.uk/',\n",
    "       'https://www.fast.ai/',\n",
    "       'https://www.crummy.com/software/BeautifulSoup/bs4/doc/',\n",
    "       'https://spacy.io/'\n",
    "       ]\n",
    "\n",
    "texts = [get_text(url) for url in urls]"
   ]
  },
  {
   "cell_type": "code",
   "execution_count": 10,
   "metadata": {},
   "outputs": [
    {
     "name": "stdout",
     "output_type": "stream",
     "text": [
      "https://www.bbc.co.uk/news 19792\n",
      "https://en.wikipedia.org/wiki/2019%E2%80%9320_coronavirus_pandemic 269550\n",
      "https://www.amazon.co.uk/ 16\n",
      "https://towardsdatascience.com/ 2510\n",
      "https://stackoverflow.com/ 10342\n",
      "https://www.reddit.com/ 16\n",
      "https://www.hotukdeals.com/ 13181\n",
      "https://www.gov.uk/ 6769\n",
      "https://www.fast.ai/ 96422\n",
      "https://www.crummy.com/software/BeautifulSoup/bs4/doc/ 105211\n",
      "https://spacy.io/ 4938\n"
     ]
    }
   ],
   "source": [
    "for ix, text in enumerate(texts):\n",
    "    print(urls[ix], len(text))"
   ]
  },
  {
   "cell_type": "markdown",
   "metadata": {},
   "source": [
    "# Word Count using Spacy"
   ]
  },
  {
   "cell_type": "code",
   "execution_count": 11,
   "metadata": {},
   "outputs": [],
   "source": [
    "nlp = spacy.load('en_core_web_md')"
   ]
  },
  {
   "cell_type": "code",
   "execution_count": 12,
   "metadata": {},
   "outputs": [],
   "source": [
    "def word_count(text):\n",
    "    doc = nlp(text)\n",
    "    words = [token.text for token in doc if token.is_punct != True]\n",
    "    counts = pd.Series(words).value_counts()\n",
    "    return(counts)"
   ]
  },
  {
   "cell_type": "code",
   "execution_count": 13,
   "metadata": {},
   "outputs": [],
   "source": [
    "counts = [word_count(t) for t in texts]"
   ]
  },
  {
   "cell_type": "code",
   "execution_count": 14,
   "metadata": {},
   "outputs": [
    {
     "name": "stdout",
     "output_type": "stream",
     "text": [
      "https://www.bbc.co.uk/news\n",
      "the        110\n",
      "in          69\n",
      "to          62\n",
      "for         59\n",
      "hours       58\n",
      "of          50\n",
      "are         37\n",
      "minutes     35\n",
      "is          29\n",
      "a           25\n",
      "dtype: int64 \n",
      "\n",
      "https://en.wikipedia.org/wiki/2019%E2%80%9320_coronavirus_pandemic\n",
      "\\n\\n         2004\n",
      "2020         1456\n",
      "the          1200\n",
      "^            1003\n",
      "of            947\n",
      "and           741\n",
      "in            717\n",
      "Retrieved     677\n",
      "to            654\n",
      "\\n            535\n",
      "dtype: int64 \n",
      "\n",
      "https://www.amazon.co.uk/\n",
      "503       1\n",
      "Status    1\n",
      "code      1\n",
      "dtype: int64 \n",
      "\n",
      "https://towardsdatascience.com/\n",
      "and     11\n",
      "Data    11\n",
      "        11\n",
      "in       9\n",
      "of       8\n",
      "the      7\n",
      "to       6\n",
      "a        6\n",
      "for      6\n",
      "I        4\n",
      "dtype: int64 \n",
      "\n",
      "https://stackoverflow.com/\n",
      "\\n          128\n",
      "and          35\n",
      "your         28\n",
      "Stack        28\n",
      "Overflow     23\n",
      "\\n\\n         21\n",
      "for          19\n",
      "the          18\n",
      "with         17\n",
      "to           17\n",
      "dtype: int64 \n",
      "\n",
      "https://www.reddit.com/\n",
      "401       1\n",
      "Status    1\n",
      "code      1\n",
      "dtype: int64 \n",
      "\n",
      "https://www.hotukdeals.com/\n",
      "£       42\n",
      "m       40\n",
      "the     40\n",
      "to      38\n",
      "h       36\n",
      "and     32\n",
      "of      29\n",
      "a       27\n",
      "        25\n",
      "deal    24\n",
      "dtype: int64 \n",
      "\n",
      "https://www.gov.uk/\n",
      "and                                             61\n",
      "\\n                                              44\n",
      "the                                             20\n",
      "\\n\\n\\n                                          18\n",
      "you                                             17\n",
      "to                                              14\n",
      "\\n                \\n\\n\\n\\n                      14\n",
      "GOV.UK                                          11\n",
      "Includes                                        10\n",
      "information                                      9\n",
      "dtype: int64 \n",
      "\n",
      "https://www.fast.ai/\n",
      "the     641\n",
      "of      437\n",
      "to      366\n",
      "and     351\n",
      "\\n      319\n",
      "a       299\n",
      "that    266\n",
      "in      253\n",
      "is      203\n",
      "for     151\n",
      "dtype: int64 \n",
      "\n",
      "https://www.crummy.com/software/BeautifulSoup/bs4/doc/\n",
      "\\n     2016\n",
      ">       682\n",
      "the     640\n",
      "a       566\n",
      "<       511\n",
      "to      252\n",
      "you     247\n",
      "and     236\n",
      "of      229\n",
      "=       207\n",
      "dtype: int64 \n",
      "\n",
      "https://spacy.io/\n",
      "and      20\n",
      "the      20\n",
      "to       18\n",
      "in       17\n",
      "of       16\n",
      "spaCy    15\n",
      "for       9\n",
      "'s        8\n",
      "is        8\n",
      "\\n        8\n",
      "dtype: int64 \n",
      "\n"
     ]
    }
   ],
   "source": [
    "for ix, c in enumerate(counts):\n",
    "    print(urls[ix])\n",
    "    print(c.head(10), '\\n')"
   ]
  },
  {
   "cell_type": "markdown",
   "metadata": {},
   "source": [
    "# Cluster words using vector representation after passing through a language model embedding"
   ]
  },
  {
   "cell_type": "code",
   "execution_count": 15,
   "metadata": {},
   "outputs": [],
   "source": [
    "bbc = nlp(texts[0])"
   ]
  },
  {
   "cell_type": "code",
   "execution_count": 16,
   "metadata": {},
   "outputs": [
    {
     "data": {
      "text/plain": [
       "((1799, 300), (1799,))"
      ]
     },
     "execution_count": 16,
     "metadata": {},
     "output_type": "execute_result"
    }
   ],
   "source": [
    "words = [w for w in bbc if  w.is_stop != True and w.is_punct != True and w.text not in ['\\n', '\\n\\n' ]]\n",
    "words_str = np.array([w.text for w in words])\n",
    "words_vec = np.array([w.vector for w in words])\n",
    "words_vec.shape, words_str.shape"
   ]
  },
  {
   "cell_type": "code",
   "execution_count": 17,
   "metadata": {},
   "outputs": [
    {
     "data": {
      "text/plain": [
       "(1310, 489)"
      ]
     },
     "execution_count": 17,
     "metadata": {},
     "output_type": "execute_result"
    }
   ],
   "source": [
    "zero_wv = words_vec.sum(axis=1)==0.0\n",
    "\n",
    "# unknown words\n",
    "words_str_u = words_str[zero_wv]\n",
    "# words for cluster\n",
    "words_str = words_str[zero_wv==False]\n",
    "words_vec = words_vec[zero_wv==False]\n",
    "len(words_str), len(words_str_u)"
   ]
  },
  {
   "cell_type": "code",
   "execution_count": 18,
   "metadata": {},
   "outputs": [
    {
     "data": {
      "text/plain": [
       "((5, 300), (1310,))"
      ]
     },
     "execution_count": 18,
     "metadata": {},
     "output_type": "execute_result"
    }
   ],
   "source": [
    "n_clusters = 5\n",
    "# Leave default settings for now\n",
    "kmeans = KMeans(n_clusters=n_clusters).fit(words_vec)\n",
    "centroids = kmeans.cluster_centers_\n",
    "prediction = kmeans.predict(words_vec)\n",
    "centroids.shape, prediction.shape\n"
   ]
  },
  {
   "cell_type": "code",
   "execution_count": 19,
   "metadata": {},
   "outputs": [],
   "source": [
    "# Calculate distance to centoid\n",
    "dists = []\n",
    "for ix, wv in enumerate(words_vec):\n",
    "    p = prediction[ix]\n",
    "    centroid = centroids[p]\n",
    "    distance = euclidean(wv, centroid)\n",
    "    dists.append(distance)\n",
    "    "
   ]
  },
  {
   "cell_type": "code",
   "execution_count": 20,
   "metadata": {},
   "outputs": [
    {
     "data": {
      "text/html": [
       "<div>\n",
       "<style scoped>\n",
       "    .dataframe tbody tr th:only-of-type {\n",
       "        vertical-align: middle;\n",
       "    }\n",
       "\n",
       "    .dataframe tbody tr th {\n",
       "        vertical-align: top;\n",
       "    }\n",
       "\n",
       "    .dataframe thead th {\n",
       "        text-align: right;\n",
       "    }\n",
       "</style>\n",
       "<table border=\"1\" class=\"dataframe\">\n",
       "  <thead>\n",
       "    <tr style=\"text-align: right;\">\n",
       "      <th></th>\n",
       "      <th>word</th>\n",
       "      <th>cluster</th>\n",
       "      <th>distance_from_cluster_centre</th>\n",
       "    </tr>\n",
       "  </thead>\n",
       "  <tbody>\n",
       "    <tr>\n",
       "      <th>0</th>\n",
       "      <td>Home</td>\n",
       "      <td>4</td>\n",
       "      <td>4.782667</td>\n",
       "    </tr>\n",
       "    <tr>\n",
       "      <th>1</th>\n",
       "      <td>BBC</td>\n",
       "      <td>0</td>\n",
       "      <td>4.846796</td>\n",
       "    </tr>\n",
       "    <tr>\n",
       "      <th>2</th>\n",
       "      <td>News</td>\n",
       "      <td>4</td>\n",
       "      <td>5.184119</td>\n",
       "    </tr>\n",
       "    <tr>\n",
       "      <th>3</th>\n",
       "      <td>BBC</td>\n",
       "      <td>0</td>\n",
       "      <td>4.846796</td>\n",
       "    </tr>\n",
       "    <tr>\n",
       "      <th>4</th>\n",
       "      <td>BBC</td>\n",
       "      <td>0</td>\n",
       "      <td>4.846796</td>\n",
       "    </tr>\n",
       "  </tbody>\n",
       "</table>\n",
       "</div>"
      ],
      "text/plain": [
       "   word  cluster  distance_from_cluster_centre\n",
       "0  Home        4                      4.782667\n",
       "1   BBC        0                      4.846796\n",
       "2  News        4                      5.184119\n",
       "3   BBC        0                      4.846796\n",
       "4   BBC        0                      4.846796"
      ]
     },
     "execution_count": 20,
     "metadata": {},
     "output_type": "execute_result"
    }
   ],
   "source": [
    "results = pd.DataFrame({\n",
    "    'word': words_str,\n",
    "    'cluster': prediction,\n",
    "    'distance_from_cluster_centre': dists\n",
    "})\n",
    "results.head()"
   ]
  },
  {
   "cell_type": "code",
   "execution_count": 21,
   "metadata": {},
   "outputs": [],
   "source": [
    "results = results.groupby(['word','cluster', 'distance_from_cluster_centre']).size().reset_index(name='word_count').sort_values(['word_count'], ascending=False)"
   ]
  },
  {
   "cell_type": "code",
   "execution_count": 22,
   "metadata": {},
   "outputs": [],
   "source": [
    "unknowns = pd.DataFrame({\n",
    "    'word': words_str_u,\n",
    "    'cluster': -1,\n",
    "    'distance_from_cluster_centre': 0.0\n",
    "})\n",
    "unknowns = unknowns.c.sort_values(['word_count'], ascending=False)"
   ]
  },
  {
   "cell_type": "code",
   "execution_count": 23,
   "metadata": {},
   "outputs": [
    {
     "data": {
      "text/plain": [
       "(588, 4)"
      ]
     },
     "execution_count": 23,
     "metadata": {},
     "output_type": "execute_result"
    }
   ],
   "source": [
    "output = pd.concat([results, unknowns], axis=0)\n",
    "output.shape"
   ]
  },
  {
   "cell_type": "markdown",
   "metadata": {},
   "source": [
    "# Visualise the clusters\n",
    "\n",
    "Use PCA to reduce the vector down to 2 dimensions from 300 so that they can be visualised"
   ]
  },
  {
   "cell_type": "code",
   "execution_count": 24,
   "metadata": {},
   "outputs": [
    {
     "data": {
      "text/plain": [
       "(1310, 2)"
      ]
     },
     "execution_count": 24,
     "metadata": {},
     "output_type": "execute_result"
    }
   ],
   "source": [
    "pca = PCA(n_components=2).fit_transform(words_vec)\n",
    "pca.shape"
   ]
  },
  {
   "cell_type": "code",
   "execution_count": 29,
   "metadata": {},
   "outputs": [
    {
     "data": {
      "text/plain": [
       "(359, 4)"
      ]
     },
     "execution_count": 29,
     "metadata": {},
     "output_type": "execute_result"
    }
   ],
   "source": [
    "pca_df = pd.DataFrame({\n",
    "    'x': pca[:,0],\n",
    "    'y': pca[:,1],\n",
    "    'cluster': prediction.astype(str),\n",
    "    'word': words_str\n",
    "}).drop_duplicates().sort_values('cluster')\n",
    "pca_df.shape"
   ]
  },
  {
   "cell_type": "code",
   "execution_count": 34,
   "metadata": {},
   "outputs": [
    {
     "data": {
      "application/vnd.plotly.v1+json": {
       "config": {
        "plotlyServerURL": "https://plot.ly"
       },
       "data": [
        {
         "customdata": [
          [
           "Damien"
          ],
          [
           "Scotland"
          ],
          [
           "Zidane"
          ],
          [
           "R"
          ],
          [
           "Gaal"
          ],
          [
           "Charlotte"
          ],
          [
           "Joshua"
          ],
          [
           "Jong"
          ],
          [
           "un"
          ],
          [
           "Bernie"
          ],
          [
           "North"
          ],
          [
           "Korean"
          ],
          [
           "India"
          ],
          [
           "v"
          ],
          [
           "NHS"
          ],
          [
           "Netflix"
          ],
          [
           "princess"
          ],
          [
           "Cambridge"
          ],
          [
           "Duchess"
          ],
          [
           "Brennan"
          ],
          [
           "eSports"
          ],
          [
           "AR-15"
          ],
          [
           "Tesla"
          ],
          [
           "m"
          ],
          [
           "York"
          ],
          [
           "east"
          ],
          [
           "Mowbray"
          ],
          [
           "Spain"
          ],
          [
           "England"
          ],
          [
           "BBC"
          ],
          [
           "English"
          ],
          [
           "SMS"
          ],
          [
           "Plaid"
          ],
          [
           "UK"
          ],
          [
           "MMS"
          ],
          [
           "BBC"
          ],
          [
           "MOTD"
          ],
          [
           "BBC"
          ],
          [
           "Jimenez"
          ],
          [
           "Scottish"
          ],
          [
           "Barca"
          ]
         ],
         "hovertemplate": "cluster=0<br>x=%{x}<br>y=%{y}<br>word=%{customdata[0]}<extra></extra>",
         "legendgroup": "0",
         "marker": {
          "color": "#2E91E5",
          "symbol": "circle"
         },
         "mode": "markers",
         "name": "0",
         "showlegend": true,
         "type": "scatter",
         "x": [
          -0.7173584699630737,
          -1.3618627786636353,
          -0.5829857587814331,
          -0.5692288875579834,
          -1.1811152696609497,
          -1.0893903970718384,
          -0.46941909193992615,
          -1.052778720855713,
          -0.917309582233429,
          -1.1416550874710083,
          -0.06780752539634705,
          -1.104928731918335,
          -1.90032958984375,
          -0.12592975795269012,
          -1.8553273677825928,
          -0.5828648805618286,
          -0.05367164686322212,
          -1.4768975973129272,
          -1.150622010231018,
          -1.1182444095611572,
          -1.3581840991973877,
          -0.706719696521759,
          -1.1998982429504395,
          0.7232913374900818,
          -1.2952102422714233,
          -0.08392506092786789,
          -1.2102653980255127,
          -1.2728841304779053,
          -1.686362862586975,
          -1.4651740789413452,
          -0.8523714542388916,
          -0.8514940142631531,
          -0.5121811032295227,
          -1.5684077739715576,
          -0.8514940142631531,
          -1.4651732444763184,
          -0.970858633518219,
          -1.4651741981506348,
          -0.913305401802063,
          -1.5160897970199585,
          -0.6593354344367981
         ],
         "xaxis": "x",
         "y": [
          2.9389753341674805,
          2.89532208442688,
          3.221081495285034,
          2.401082754135132,
          2.405442714691162,
          2.5107438564300537,
          2.6413025856018066,
          3.06952166557312,
          2.1745753288269043,
          2.537484884262085,
          0.6254763603210449,
          3.1354949474334717,
          2.0792717933654785,
          2.0430519580841064,
          1.4068198204040527,
          1.7532943487167358,
          2.885523557662964,
          2.247753143310547,
          1.797249674797058,
          2.8564951419830322,
          2.2396349906921387,
          1.8990260362625122,
          1.9048395156860352,
          2.056225538253784,
          2.355088949203491,
          0.6140886545181274,
          2.8590385913848877,
          2.6861164569854736,
          2.7577059268951416,
          2.8895750045776367,
          2.751734495162964,
          2.215484619140625,
          2.1753835678100586,
          2.2349236011505127,
          2.215484619140625,
          2.8895740509033203,
          2.7891275882720947,
          2.8895745277404785,
          2.827371597290039,
          2.9955332279205322,
          3.0204765796661377
         ],
         "yaxis": "y"
        },
        {
         "customdata": [
          [
           "3"
          ],
          [
           "10"
          ],
          [
           "hours"
          ],
          [
           "58"
          ],
          [
           "5"
          ],
          [
           "day"
          ],
          [
           "seconds"
          ],
          [
           "minutes"
          ],
          [
           "weeks"
          ],
          [
           "11"
          ],
          [
           "£"
          ],
          [
           "ago"
          ],
          [
           "minute"
          ],
          [
           "17"
          ],
          [
           "hour"
          ]
         ],
         "hovertemplate": "cluster=1<br>x=%{x}<br>y=%{y}<br>word=%{customdata[0]}<extra></extra>",
         "legendgroup": "1",
         "marker": {
          "color": "#E15F99",
          "symbol": "circle"
         },
         "mode": "markers",
         "name": "1",
         "showlegend": true,
         "type": "scatter",
         "x": [
          1.8643648624420166,
          1.9859154224395752,
          4.55313777923584,
          1.3814482688903809,
          2.0378663539886475,
          1.867272138595581,
          2.926607370376587,
          4.390783786773682,
          2.4997501373291016,
          1.8121503591537476,
          1.4170092344284058,
          2.8029401302337646,
          2.508098840713501,
          1.7628623247146606,
          3.624912977218628
         ],
         "xaxis": "x",
         "y": [
          1.1286529302597046,
          0.48229098320007324,
          -1.651109218597412,
          0.8870305418968201,
          0.8246670365333557,
          -0.29869046807289124,
          -0.5715579390525818,
          -1.54344642162323,
          -0.7488183379173279,
          0.9757177233695984,
          1.5156548023223877,
          0.6995229125022888,
          -0.6989502310752869,
          0.9238819479942322,
          -1.4419540166854858
         ],
         "yaxis": "y"
        },
        {
         "customdata": [
          [
           "viral"
          ],
          [
           "Ebola"
          ],
          [
           "anti"
          ],
          [
           "Drug"
          ],
          [
           "coronavirus"
          ],
          [
           "drug"
          ],
          [
           "flu"
          ],
          [
           "virus"
          ],
          [
           "patients"
          ],
          [
           "antibodies"
          ],
          [
           "outbreak"
          ],
          [
           "plasma"
          ],
          [
           "vaccine"
          ],
          [
           "vaccinations"
          ],
          [
           "pandemic"
          ]
         ],
         "hovertemplate": "cluster=2<br>x=%{x}<br>y=%{y}<br>word=%{customdata[0]}<extra></extra>",
         "legendgroup": "2",
         "marker": {
          "color": "#1CA71C",
          "symbol": "circle"
         },
         "mode": "markers",
         "name": "2",
         "showlegend": true,
         "type": "scatter",
         "x": [
          -2.2370803356170654,
          -2.2370643615722656,
          -2.545402765274048,
          -1.7835499048233032,
          -3.305098295211792,
          -1.7835499048233032,
          -1.9143749475479126,
          -3.305098295211792,
          -0.592739462852478,
          -1.666680097579956,
          -2.0115766525268555,
          -1.2227367162704468,
          -2.6996779441833496,
          -2.2853920459747314,
          -2.6602301597595215
         ],
         "xaxis": "x",
         "y": [
          -1.000059723854065,
          0.5196384191513062,
          0.6089838147163391,
          -1.6617592573165894,
          -1.496553659439087,
          -1.6617592573165894,
          -1.134237289428711,
          -1.496553659439087,
          -2.579895496368408,
          -1.6352126598358154,
          -1.3193855285644531,
          -0.976935088634491,
          -2.172497034072876,
          -1.83229660987854,
          -1.061598777770996
         ],
         "yaxis": "y"
        },
        {
         "customdata": [
          [
           "★"
          ],
          [
           "☆"
          ]
         ],
         "hovertemplate": "cluster=3<br>x=%{x}<br>y=%{y}<br>word=%{customdata[0]}<extra></extra>",
         "legendgroup": "3",
         "marker": {
          "color": "#FB0D0D",
          "symbol": "circle"
         },
         "mode": "markers",
         "name": "3",
         "showlegend": true,
         "type": "scatter",
         "x": [
          2.2903332710266113,
          2.2903332710266113
         ],
         "xaxis": "x",
         "y": [
          5.729086875915527,
          5.729086875915527
         ],
         "yaxis": "y"
        },
        {
         "customdata": [
          [
           "know"
          ],
          [
           "home"
          ],
          [
           "confirmed"
          ],
          [
           "cancelled"
          ],
          [
           "tornado"
          ],
          [
           "hits"
          ],
          [
           "driver"
          ],
          [
           "toast"
          ],
          [
           "offender"
          ],
          [
           "mistake"
          ],
          [
           "haunt"
          ],
          [
           "dying"
          ],
          [
           "wants"
          ],
          [
           "Ground"
          ],
          [
           "Zero"
          ],
          [
           "bombarded"
          ],
          [
           "bring"
          ],
          [
           "hair"
          ],
          [
           "new"
          ],
          [
           "cut"
          ],
          [
           "tests"
          ],
          [
           "100,000"
          ],
          [
           "cases"
          ],
          [
           "rest"
          ],
          [
           "follow"
          ],
          [
           "Tracking"
          ],
          [
           "Papers"
          ],
          [
           "need"
          ],
          [
           "class"
          ],
          [
           "developing"
          ],
          [
           "latest"
          ],
          [
           "Radio"
          ],
          [
           "exclusive"
          ],
          [
           "important"
          ],
          [
           "preparations"
          ],
          [
           "settings"
          ],
          [
           "Newscast"
          ],
          [
           "gambling"
          ],
          [
           "Trump"
          ],
          [
           "selling"
          ],
          [
           "love"
          ],
          [
           "Northern"
          ],
          [
           "today"
          ],
          [
           "lie"
          ],
          [
           "headlines"
          ],
          [
           "international"
          ],
          [
           "Change"
          ],
          [
           "White"
          ],
          [
           "2016"
          ],
          [
           "House"
          ],
          [
           "fight"
          ],
          [
           "pictures"
          ],
          [
           "$"
          ],
          [
           "internet"
          ],
          [
           "genius"
          ],
          [
           "Van"
          ],
          [
           "brush"
          ],
          [
           "nightmare"
          ],
          [
           "predict"
          ],
          [
           "Experts"
          ],
          [
           "ended"
          ],
          [
           "Championship"
          ],
          [
           "Fury"
          ],
          [
           "begin"
          ],
          [
           "League"
          ],
          [
           "Premier"
          ],
          [
           "finish"
          ],
          [
           "needed"
          ],
          [
           "venues"
          ],
          [
           "memorable"
          ],
          [
           "open"
          ],
          [
           "Real"
          ],
          [
           "Man"
          ],
          [
           "approach"
          ],
          [
           "sites"
          ],
          [
           "external"
          ],
          [
           "content"
          ],
          [
           "responsible"
          ],
          [
           "2020"
          ],
          [
           "©"
          ],
          [
           "dismissed"
          ],
          [
           "Personalised"
          ],
          [
           "Explore"
          ],
          [
           "Car"
          ],
          [
           "trust"
          ],
          [
           "weekday"
          ],
          [
           "inbox"
          ],
          [
           "daily"
          ],
          [
           "Find"
          ],
          [
           "Terms"
          ],
          [
           "stop"
          ],
          [
           "claim"
          ],
          [
           "equal"
          ],
          [
           "Musk"
          ],
          [
           "disappeared"
          ],
          [
           "teen"
          ],
          [
           "dinosaur"
          ],
          [
           "secret"
          ],
          [
           "read"
          ],
          [
           "years"
          ],
          [
           "teacher"
          ],
          [
           "boy"
          ],
          [
           "happened"
          ],
          [
           "God"
          ],
          [
           "prayed"
          ],
          [
           "Long"
          ],
          [
           "local"
          ],
          [
           "Local"
          ],
          [
           "tweet"
          ],
          [
           "wipes"
          ],
          [
           "party"
          ],
          [
           "14bn"
          ],
          [
           "Women"
          ],
          [
           "radio"
          ],
          [
           "final"
          ],
          [
           "Cup"
          ],
          [
           "World"
          ],
          [
           "2017"
          ],
          [
           "workers"
          ],
          [
           "pay"
          ],
          [
           "gaming"
          ],
          [
           "skinned"
          ],
          [
           "chat"
          ],
          [
           "video"
          ],
          [
           "pleads"
          ],
          [
           "tournament"
          ],
          [
           "International"
          ],
          [
           "divide"
          ],
          [
           "girls"
          ],
          [
           "ICU"
          ],
          [
           "Home"
          ],
          [
           "Training"
          ],
          [
           "biggest"
          ],
          [
           "leader"
          ],
          [
           "speculation"
          ],
          [
           "amid"
          ],
          [
           "comes"
          ],
          [
           "appearance"
          ],
          [
           "reported"
          ],
          [
           "media"
          ],
          [
           "state"
          ],
          [
           "public"
          ],
          [
           "appears"
          ],
          [
           "life"
          ],
          [
           "everyday"
          ],
          [
           "aspects"
          ],
          [
           "restrictions"
          ],
          [
           "challenge"
          ],
          [
           "come"
          ],
          [
           "target"
          ],
          [
           "met"
          ],
          [
           "use"
          ],
          [
           "emergency"
          ],
          [
           "Administration"
          ],
          [
           "Food"
          ],
          [
           "authorises"
          ],
          [
           "ill"
          ],
          [
           "seriously"
          ],
          [
           "people"
          ],
          [
           "contact"
          ],
          [
           "paramedics"
          ],
          [
           "Video"
          ],
          [
           "miss"
          ],
          [
           "Hit"
          ],
          [
           "debut"
          ],
          [
           "questions"
          ],
          [
           "lots"
          ],
          [
           "point"
          ],
          [
           "experimental"
          ],
          [
           "clear"
          ],
          [
           "built"
          ],
          [
           "account"
          ],
          [
           "signing"
          ],
          [
           "nation"
          ],
          [
           "setting"
          ],
          [
           "sign"
          ],
          [
           "better"
          ],
          [
           "Read"
          ],
          [
           "Latest"
          ],
          [
           "news"
          ],
          [
           "breaking"
          ],
          [
           "Home"
          ],
          [
           "News"
          ],
          [
           "Education"
          ],
          [
           "Car"
          ],
          [
           "News"
          ],
          [
           "later"
          ],
          [
           "seeing"
          ],
          [
           "stories"
          ],
          [
           "changing"
          ],
          [
           "recovered"
          ],
          [
           "hoped"
          ],
          [
           "interest"
          ],
          [
           "signal"
          ],
          [
           "global"
          ],
          [
           "close"
          ],
          [
           "crucial"
          ],
          [
           "help"
          ],
          [
           "seven"
          ],
          [
           "exercise"
          ],
          [
           "allowed"
          ],
          [
           "lockdown"
          ],
          [
           "outside"
          ],
          [
           "heads"
          ],
          [
           "notification"
          ],
          [
           "nations"
          ],
          [
           "time"
          ],
          [
           "completed"
          ],
          [
           "asked"
          ],
          [
           "transport"
          ],
          [
           "narrative"
          ],
          [
           "music"
          ],
          [
           "casting"
          ],
          [
           "Excellent"
          ],
          [
           "nurse"
          ],
          [
           "hospice"
          ],
          [
           "dedicated"
          ],
          [
           "Tribute"
          ],
          [
           "online"
          ],
          [
           "free"
          ],
          [
           "gets"
          ],
          [
           "movie"
          ],
          [
           "rolling"
          ],
          [
           "Cheese"
          ],
          [
           "terrified"
          ],
          [
           "plodding"
          ],
          [
           "predictable"
          ],
          [
           "sequence"
          ],
          [
           "events"
          ],
          [
           "fostering"
          ],
          [
           "delay"
          ],
          [
           "number"
          ],
          [
           "work"
          ],
          [
           "publication"
          ],
          [
           "Thousands"
          ],
          [
           "coping"
          ],
          [
           "donating"
          ],
          [
           "advice"
          ],
          [
           "Adventurer"
          ],
          [
           "following"
          ],
          [
           "football"
          ],
          [
           "flight"
          ],
          [
           "weekend"
          ],
          [
           "Sixth"
          ],
          [
           "external"
          ],
          [
           "shares"
          ],
          [
           "check"
          ],
          [
           "updates"
          ],
          [
           "helping"
          ],
          [
           "says"
          ],
          [
           "child"
          ],
          [
           "parents"
          ],
          [
           "urges"
          ],
          [
           "property"
          ],
          [
           "hurt"
          ],
          [
           "pair"
          ],
          [
           "found"
          ],
          [
           "injured"
          ],
          [
           "man"
          ],
          [
           "shot"
          ],
          [
           "easing"
          ],
          [
           "plans"
          ],
          [
           "considered"
          ],
          [
           "safer"
          ],
          [
           "essential"
          ],
          [
           "provided"
          ],
          [
           "despite"
          ],
          [
           "Trust"
          ],
          [
           "taken"
          ],
          [
           "photos"
          ],
          [
           "turns"
          ],
          [
           "needy"
          ],
          [
           "food"
          ],
          [
           "takes"
          ],
          [
           "sectors"
          ],
          [
           "deliver"
          ],
          [
           "wildlife"
          ],
          [
           "urgent"
          ],
          [
           "calls"
          ],
          [
           "charity"
          ],
          [
           "conservation"
          ],
          [
           "losses"
          ],
          [
           "200"
          ],
          [
           "faces"
          ],
          [
           "support"
          ],
          [
           "linking"
          ]
         ],
         "hovertemplate": "cluster=4<br>x=%{x}<br>y=%{y}<br>word=%{customdata[0]}<extra></extra>",
         "legendgroup": "4",
         "marker": {
          "color": "#DA16FF",
          "symbol": "circle"
         },
         "mode": "markers",
         "name": "4",
         "showlegend": true,
         "type": "scatter",
         "x": [
          -0.19317367672920227,
          0.02729383111000061,
          -0.3888552188873291,
          0.2024078071117401,
          0.07896770536899567,
          0.38224947452545166,
          -0.3229340612888336,
          0.3405047655105591,
          -0.9721540212631226,
          -0.4878970682621002,
          -0.3977736234664917,
          -0.31798678636550903,
          -0.5726814866065979,
          -0.05255424231290817,
          -0.4154626727104187,
          -0.4448733329772949,
          -0.41630011796951294,
          0.19969643652439117,
          -0.7235509157180786,
          0.15288956463336945,
          -0.7806715369224548,
          0.1515125036239624,
          -1.0416191816329956,
          0.5201740264892578,
          0.1382017880678177,
          -0.9559475779533386,
          -0.3984798789024353,
          -0.3870560824871063,
          -0.1036120057106018,
          -1.6761329174041748,
          -0.6971046924591064,
          -0.583486795425415,
          -0.2855001986026764,
          -1.171616554260254,
          -0.2597711980342865,
          -0.47989898920059204,
          -0.5127829313278198,
          -1.4638499021530151,
          -1.3717827796936035,
          -0.6509389877319336,
          0.21801058948040009,
          -0.9147861003875732,
          0.24697083234786987,
          -0.4193041920661926,
          -1.0337847471237183,
          -1.2567253112792969,
          -0.758042573928833,
          -0.2378871738910675,
          -0.042609285563230515,
          0.13031667470932007,
          -0.7368831634521484,
          -0.002764177042990923,
          1.3175842761993408,
          -1.111218810081482,
          -0.8315481543540955,
          -0.02990800514817238,
          0.01836155168712139,
          -0.3168446123600006,
          -1.2553552389144897,
          -1.3325082063674927,
          0.7103334665298462,
          0.1809258759021759,
          -0.4461686909198761,
          0.17400895059108734,
          -0.26302269101142883,
          -1.1935077905654907,
          1.0942519903182983,
          -0.05950551852583885,
          -0.24501383304595947,
          0.3031674325466156,
          -0.08613072335720062,
          -0.8714361786842346,
          -0.25216275453567505,
          -1.3106235265731812,
          -0.9589141607284546,
          -1.2093346118927002,
          -0.7286235094070435,
          -1.2991126775741577,
          -0.08651144802570343,
          -1.1334805488586426,
          -0.4952639639377594,
          -0.7066329121589661,
          -0.46838119626045227,
          0.022557567805051804,
          -1.183361291885376,
          1.5873337984085083,
          -0.3790663778781891,
          0.7047551870346069,
          -0.4001789093017578,
          -0.9711039662361145,
          0.0795513167977333,
          -0.960825502872467,
          -0.23448607325553894,
          -0.383901983499527,
          0.07458919286727905,
          -0.5695700645446777,
          -0.6913111805915833,
          -0.6262842416763306,
          0.48142391443252563,
          1.3547677993774414,
          -0.19017432630062103,
          0.04070046544075012,
          0.36497804522514343,
          -0.7627336382865906,
          0.7851322293281555,
          0.872064471244812,
          -0.6946331858634949,
          -0.6946331858634949,
          0.4369126558303833,
          -0.7056704759597778,
          -0.3218272030353546,
          0.7193223237991333,
          -0.8337744474411011,
          -0.583486795425415,
          0.4883609414100647,
          0.8178548216819763,
          -0.9797751903533936,
          -0.042609285563230515,
          -0.6162959337234497,
          -0.06058475747704506,
          -0.44992104172706604,
          -0.2609523832798004,
          -0.18566258251667023,
          -0.04755903407931328,
          -0.38829827308654785,
          -0.06980776786804199,
          -1.2567253112792969,
          -0.6659506559371948,
          -0.028812330216169357,
          -0.7392006516456604,
          0.02728191204369068,
          -0.1410830318927765,
          -0.853886067867279,
          -0.9689635038375854,
          -0.9614496231079102,
          -0.27121153473854065,
          -0.33700239658355713,
          -0.4513009488582611,
          -0.36206305027008057,
          -1.1929823160171509,
          -1.025720477104187,
          -0.9904212355613708,
          -0.7338142991065979,
          -0.03411732241511345,
          0.023681845515966415,
          -1.573968768119812,
          -1.1815904378890991,
          -0.45194387435913086,
          -0.19817066192626953,
          -1.0951193571090698,
          0.2700093984603882,
          -0.6289302110671997,
          -0.49272260069847107,
          -1.0780082941055298,
          -0.7558752298355103,
          -0.7981859445571899,
          -0.7130600214004517,
          -0.5089256763458252,
          -0.3374338746070862,
          -0.33679503202438354,
          0.08055542409420013,
          -0.04755903407931328,
          0.3709199130535126,
          0.19565251469612122,
          0.21549464762210846,
          -0.22432908415794373,
          0.26837778091430664,
          0.1869594007730484,
          -1.548938512802124,
          -0.33249983191490173,
          -0.3926152288913727,
          -0.5609205961227417,
          -0.06416714936494827,
          -1.3526387214660645,
          -0.1472323089838028,
          -0.3015727698802948,
          -0.35775166749954224,
          0.48142391443252563,
          -0.6971046924591064,
          -0.9750853180885315,
          -0.22962254285812378,
          0.02729383111000061,
          -0.9750853180885315,
          -1.4627676010131836,
          0.022557571530342102,
          -0.9750853180885315,
          0.8301575183868408,
          -0.07483774423599243,
          -0.5225107073783875,
          -0.8803057074546814,
          -0.19027262926101685,
          -0.5351106524467468,
          -0.7409370541572571,
          -0.9289783835411072,
          -2.0258398056030273,
          0.3980933427810669,
          -1.2010326385498047,
          -0.8370544910430908,
          0.9327941536903381,
          -0.2645265460014343,
          -0.14257027208805084,
          0.3397747576236725,
          0.19445934891700745,
          -0.22915135324001312,
          -0.6654353737831116,
          -1.560760259628296,
          1.132062554359436,
          0.8831514120101929,
          0.16312488913536072,
          -1.036895513534546,
          -1.003044605255127,
          -0.21893109381198883,
          -0.3405691087245941,
          -0.14722390472888947,
          -0.0918639749288559,
          -0.19021862745285034,
          -0.7329232096672058,
          -0.3006380498409271,
          -0.6399770975112915,
          -0.5398221611976624,
          0.2290685921907425,
          -0.06950938701629639,
          0.2975213825702667,
          0.21580928564071655,
          -0.2410888522863388,
          0.08338423073291779,
          -0.9348920583724976,
          -0.5337926745414734,
          -0.6711962819099426,
          -1.3121554851531982,
          0.15331444144248962,
          -0.19210366904735565,
          0.07352939993143082,
          -1.1385434865951538,
          -0.6611599326133728,
          -1.381200909614563,
          -0.852954626083374,
          -0.8622304797172546,
          -0.4879864454269409,
          0.10836608707904816,
          -0.46703746914863586,
          0.660359799861908,
          1.1777219772338867,
          -0.057857733219861984,
          -1.209334135055542,
          -0.3042719066143036,
          0.10731659829616547,
          -0.12267907708883286,
          -0.8488970994949341,
          -0.512406587600708,
          -0.4272140860557556,
          -0.30214932560920715,
          -1.2587225437164307,
          -0.7998808026313782,
          -0.4377598166465759,
          0.2531280815601349,
          -0.14929364621639252,
          0.15105637907981873,
          -0.25216275453567505,
          0.693195641040802,
          -0.950033962726593,
          -0.8597539663314819,
          -1.0831769704818726,
          -1.3761485815048218,
          -1.2330185174942017,
          -0.3815622925758362,
          -0.44455909729003906,
          -1.183361291885376,
          0.1949329972267151,
          0.42401134967803955,
          0.3413684666156769,
          -1.0014833211898804,
          -0.7558752298355103,
          0.5360903739929199,
          -1.7028056383132935,
          -0.4238342046737671,
          -1.340753197669983,
          -1.0133743286132812,
          0.12018309533596039,
          -1.0031101703643799,
          -1.7718323469161987,
          -0.7186806797981262,
          0.9975923299789429,
          -0.11595114320516586,
          -0.9771233797073364,
          -1.2103867530822754
         ],
         "xaxis": "x",
         "y": [
          0.3535667955875397,
          -0.15717551112174988,
          -0.9418195486068726,
          0.1366218775510788,
          -0.1605786830186844,
          0.652406632900238,
          -0.506024181842804,
          1.4700747728347778,
          -0.3005989193916321,
          -0.033781807869672775,
          0.5371015071868896,
          0.13144750893115997,
          0.2611216604709625,
          -0.5398557782173157,
          -0.1509031057357788,
          -0.1768677979707718,
          -0.15013591945171356,
          1.0808676481246948,
          0.20488925278186798,
          -0.013240152969956398,
          -1.3724002838134766,
          -0.5720585584640503,
          -1.6039139032363892,
          -0.3614436089992523,
          0.014053610153496265,
          -0.49564027786254883,
          0.00020340892660897225,
          -0.4355052709579468,
          -0.22815722227096558,
          -1.5634236335754395,
          0.15299807488918304,
          0.40785375237464905,
          0.30537834763526917,
          -1.1262341737747192,
          -1.4113576412200928,
          -0.5280159115791321,
          -0.27676233649253845,
          0.17005540430545807,
          1.109997034072876,
          0.17600786685943604,
          2.3793015480041504,
          0.2223558872938156,
          0.04419911280274391,
          0.3717133700847626,
          0.27789753675460815,
          -0.18590117990970612,
          -0.6687978506088257,
          0.9535649418830872,
          0.6099254488945007,
          0.4113389551639557,
          -0.21358487010002136,
          1.5573049783706665,
          0.7572265267372131,
          0.16826431453227997,
          0.996861457824707,
          1.0980368852615356,
          0.5487999320030212,
          0.22174996137619019,
          -0.7621335983276367,
          -1.1148262023925781,
          -0.2675734758377075,
          0.6520957946777344,
          0.8843618035316467,
          -1.024148941040039,
          0.47010812163352966,
          0.7215988636016846,
          0.12614615261554718,
          -1.0920413732528687,
          0.1521615982055664,
          0.470714807510376,
          -0.41157710552215576,
          0.2171396017074585,
          0.3967284560203552,
          -1.2945597171783447,
          -0.26408496499061584,
          -1.0024999380111694,
          -0.644547164440155,
          -1.393817663192749,
          0.20945490896701813,
          0.6724738478660583,
          -0.6592063903808594,
          1.4604361057281494,
          -0.3834276497364044,
          0.13651832938194275,
          0.4171048700809479,
          0.1595466136932373,
          0.8730109930038452,
          -0.7905332446098328,
          0.042517904192209244,
          -0.8306901454925537,
          -0.3815021812915802,
          -0.8763614296913147,
          -0.45845502614974976,
          0.8878778219223022,
          -0.3452320694923401,
          1.652830719947815,
          1.0804084539413452,
          0.6067373752593994,
          0.37242311239242554,
          -0.6560966968536377,
          0.21030278503894806,
          1.5860861539840698,
          -0.06803694367408752,
          1.9043740034103394,
          0.32502275705337524,
          -0.2754201591014862,
          -0.9424521923065186,
          -0.9424521923065186,
          1.0847296714782715,
          0.5592225193977356,
          0.5887672901153564,
          0.6369850635528564,
          0.14927877485752106,
          0.40785375237464905,
          -0.3056585490703583,
          1.4703764915466309,
          0.32334548234939575,
          0.6099254488945007,
          -1.8290995359420776,
          -0.5712396502494812,
          0.3809139132499695,
          1.0063176155090332,
          1.212372899055481,
          1.0366562604904175,
          -0.0032581558916717768,
          0.31672534346580505,
          -0.18590117990970612,
          -0.2280707210302353,
          1.7776864767074585,
          -0.5042498111724854,
          -0.1571980118751526,
          -0.9580371975898743,
          0.17407026886940002,
          -0.2980518639087677,
          -0.5010623931884766,
          -0.291991651058197,
          -0.29111239314079285,
          -0.4362708628177643,
          -1.8896616697311401,
          -0.6621778011322021,
          -1.2262314558029175,
          -1.3408793210983276,
          -0.8187286853790283,
          -0.0075163948349654675,
          0.1402277648448944,
          -0.9506721496582031,
          -1.1742056608200073,
          -0.23121856153011322,
          -0.010951240547001362,
          -0.9382252097129822,
          0.2367015928030014,
          -0.7066984176635742,
          -1.6911216974258423,
          -2.1792213916778564,
          -0.11135631799697876,
          -0.7874907851219177,
          0.4369341731071472,
          0.2372896522283554,
          -0.583030641078949,
          -0.29021328687667847,
          -0.845007598400116,
          1.0366562604904175,
          1.6659427881240845,
          0.06027405709028244,
          0.9659402370452881,
          -0.5869423747062683,
          0.3620995581150055,
          -0.6703296899795532,
          -0.9443994760513306,
          -0.6975619196891785,
          -0.23777329921722412,
          -0.4018581211566925,
          0.0883498415350914,
          -0.417635440826416,
          -0.9223908185958862,
          0.10050906985998154,
          -0.05778909847140312,
          0.37242311239242554,
          0.15299807488918304,
          0.40922653675079346,
          -0.05902023985981941,
          -0.15717551112174988,
          0.40922653675079346,
          -0.8633887767791748,
          0.13651829957962036,
          0.4092271625995636,
          -0.8838999271392822,
          0.030517185106873512,
          0.48484861850738525,
          -0.6194188594818115,
          -1.0937896966934204,
          -0.46382635831832886,
          -0.7904952168464661,
          -1.0526477098464966,
          -0.573161780834198,
          -0.3756410777568817,
          -1.2123123407363892,
          -0.5537973642349243,
          -0.855275571346283,
          -1.0215861797332764,
          -0.9538046717643738,
          -0.44028356671333313,
          -1.0204697847366333,
          -0.0056906286627054214,
          -0.725889265537262,
          -0.2604195475578308,
          -0.7756404280662537,
          -0.7958413362503052,
          -0.15253132581710815,
          -0.8509161472320557,
          -0.3863997757434845,
          1.0521632432937622,
          0.6514731049537659,
          -0.07822152972221375,
          -0.3515636622905731,
          -1.1853207349777222,
          -0.12990687787532806,
          1.6459109783172607,
          0.25870534777641296,
          0.32625824213027954,
          -0.09866515547037125,
          1.276862382888794,
          0.21284250915050507,
          0.877820611000061,
          0.13284853100776672,
          -0.44863274693489075,
          -0.4230811595916748,
          -0.797551691532135,
          -0.5407471060752869,
          0.3646119236946106,
          -1.3018972873687744,
          -0.7213365435600281,
          -0.766695499420166,
          -0.28375017642974854,
          -0.9502071738243103,
          -0.17877693474292755,
          0.2412303239107132,
          0.04837913438677788,
          0.3195497393608093,
          -1.1163220405578613,
          0.9721105694770813,
          -0.5139892101287842,
          0.21788431704044342,
          0.0024646727833896875,
          -1.0024995803833008,
          -0.11743724346160889,
          0.2265702188014984,
          0.2490909844636917,
          -0.601112425327301,
          0.12583020329475403,
          -0.20622339844703674,
          -0.2750594913959503,
          -0.2901216149330139,
          -0.6094033122062683,
          0.0712192952632904,
          0.6942079067230225,
          -0.4075409770011902,
          -0.9114521741867065,
          0.3967284560203552,
          -0.20044077932834625,
          -1.2418025732040405,
          -0.68853360414505,
          -0.9360432028770447,
          -0.8005995750427246,
          -0.8642771244049072,
          -1.2441937923431396,
          -1.2283893823623657,
          0.4171048700809479,
          -0.9047725200653076,
          1.4884967803955078,
          -0.21278879046440125,
          0.2628178596496582,
          -0.11135631799697876,
          -0.5284437537193298,
          -1.2103453874588013,
          -0.855154812335968,
          -0.04769686982035637,
          -0.6353968381881714,
          -0.6412720084190369,
          0.5236725807189941,
          -0.6519618034362793,
          -0.9684744477272034,
          0.19451551139354706,
          0.1316388100385666,
          -0.6186197996139526,
          -0.1562729924917221
         ],
         "yaxis": "y"
        }
       ],
       "layout": {
        "legend": {
         "title": {
          "text": "cluster"
         },
         "tracegroupgap": 0
        },
        "margin": {
         "t": 60
        },
        "template": {
         "data": {
          "bar": [
           {
            "error_x": {
             "color": "#2a3f5f"
            },
            "error_y": {
             "color": "#2a3f5f"
            },
            "marker": {
             "line": {
              "color": "#E5ECF6",
              "width": 0.5
             }
            },
            "type": "bar"
           }
          ],
          "barpolar": [
           {
            "marker": {
             "line": {
              "color": "#E5ECF6",
              "width": 0.5
             }
            },
            "type": "barpolar"
           }
          ],
          "carpet": [
           {
            "aaxis": {
             "endlinecolor": "#2a3f5f",
             "gridcolor": "white",
             "linecolor": "white",
             "minorgridcolor": "white",
             "startlinecolor": "#2a3f5f"
            },
            "baxis": {
             "endlinecolor": "#2a3f5f",
             "gridcolor": "white",
             "linecolor": "white",
             "minorgridcolor": "white",
             "startlinecolor": "#2a3f5f"
            },
            "type": "carpet"
           }
          ],
          "choropleth": [
           {
            "colorbar": {
             "outlinewidth": 0,
             "ticks": ""
            },
            "type": "choropleth"
           }
          ],
          "contour": [
           {
            "colorbar": {
             "outlinewidth": 0,
             "ticks": ""
            },
            "colorscale": [
             [
              0,
              "#0d0887"
             ],
             [
              0.1111111111111111,
              "#46039f"
             ],
             [
              0.2222222222222222,
              "#7201a8"
             ],
             [
              0.3333333333333333,
              "#9c179e"
             ],
             [
              0.4444444444444444,
              "#bd3786"
             ],
             [
              0.5555555555555556,
              "#d8576b"
             ],
             [
              0.6666666666666666,
              "#ed7953"
             ],
             [
              0.7777777777777778,
              "#fb9f3a"
             ],
             [
              0.8888888888888888,
              "#fdca26"
             ],
             [
              1,
              "#f0f921"
             ]
            ],
            "type": "contour"
           }
          ],
          "contourcarpet": [
           {
            "colorbar": {
             "outlinewidth": 0,
             "ticks": ""
            },
            "type": "contourcarpet"
           }
          ],
          "heatmap": [
           {
            "colorbar": {
             "outlinewidth": 0,
             "ticks": ""
            },
            "colorscale": [
             [
              0,
              "#0d0887"
             ],
             [
              0.1111111111111111,
              "#46039f"
             ],
             [
              0.2222222222222222,
              "#7201a8"
             ],
             [
              0.3333333333333333,
              "#9c179e"
             ],
             [
              0.4444444444444444,
              "#bd3786"
             ],
             [
              0.5555555555555556,
              "#d8576b"
             ],
             [
              0.6666666666666666,
              "#ed7953"
             ],
             [
              0.7777777777777778,
              "#fb9f3a"
             ],
             [
              0.8888888888888888,
              "#fdca26"
             ],
             [
              1,
              "#f0f921"
             ]
            ],
            "type": "heatmap"
           }
          ],
          "heatmapgl": [
           {
            "colorbar": {
             "outlinewidth": 0,
             "ticks": ""
            },
            "colorscale": [
             [
              0,
              "#0d0887"
             ],
             [
              0.1111111111111111,
              "#46039f"
             ],
             [
              0.2222222222222222,
              "#7201a8"
             ],
             [
              0.3333333333333333,
              "#9c179e"
             ],
             [
              0.4444444444444444,
              "#bd3786"
             ],
             [
              0.5555555555555556,
              "#d8576b"
             ],
             [
              0.6666666666666666,
              "#ed7953"
             ],
             [
              0.7777777777777778,
              "#fb9f3a"
             ],
             [
              0.8888888888888888,
              "#fdca26"
             ],
             [
              1,
              "#f0f921"
             ]
            ],
            "type": "heatmapgl"
           }
          ],
          "histogram": [
           {
            "marker": {
             "colorbar": {
              "outlinewidth": 0,
              "ticks": ""
             }
            },
            "type": "histogram"
           }
          ],
          "histogram2d": [
           {
            "colorbar": {
             "outlinewidth": 0,
             "ticks": ""
            },
            "colorscale": [
             [
              0,
              "#0d0887"
             ],
             [
              0.1111111111111111,
              "#46039f"
             ],
             [
              0.2222222222222222,
              "#7201a8"
             ],
             [
              0.3333333333333333,
              "#9c179e"
             ],
             [
              0.4444444444444444,
              "#bd3786"
             ],
             [
              0.5555555555555556,
              "#d8576b"
             ],
             [
              0.6666666666666666,
              "#ed7953"
             ],
             [
              0.7777777777777778,
              "#fb9f3a"
             ],
             [
              0.8888888888888888,
              "#fdca26"
             ],
             [
              1,
              "#f0f921"
             ]
            ],
            "type": "histogram2d"
           }
          ],
          "histogram2dcontour": [
           {
            "colorbar": {
             "outlinewidth": 0,
             "ticks": ""
            },
            "colorscale": [
             [
              0,
              "#0d0887"
             ],
             [
              0.1111111111111111,
              "#46039f"
             ],
             [
              0.2222222222222222,
              "#7201a8"
             ],
             [
              0.3333333333333333,
              "#9c179e"
             ],
             [
              0.4444444444444444,
              "#bd3786"
             ],
             [
              0.5555555555555556,
              "#d8576b"
             ],
             [
              0.6666666666666666,
              "#ed7953"
             ],
             [
              0.7777777777777778,
              "#fb9f3a"
             ],
             [
              0.8888888888888888,
              "#fdca26"
             ],
             [
              1,
              "#f0f921"
             ]
            ],
            "type": "histogram2dcontour"
           }
          ],
          "mesh3d": [
           {
            "colorbar": {
             "outlinewidth": 0,
             "ticks": ""
            },
            "type": "mesh3d"
           }
          ],
          "parcoords": [
           {
            "line": {
             "colorbar": {
              "outlinewidth": 0,
              "ticks": ""
             }
            },
            "type": "parcoords"
           }
          ],
          "pie": [
           {
            "automargin": true,
            "type": "pie"
           }
          ],
          "scatter": [
           {
            "marker": {
             "colorbar": {
              "outlinewidth": 0,
              "ticks": ""
             }
            },
            "type": "scatter"
           }
          ],
          "scatter3d": [
           {
            "line": {
             "colorbar": {
              "outlinewidth": 0,
              "ticks": ""
             }
            },
            "marker": {
             "colorbar": {
              "outlinewidth": 0,
              "ticks": ""
             }
            },
            "type": "scatter3d"
           }
          ],
          "scattercarpet": [
           {
            "marker": {
             "colorbar": {
              "outlinewidth": 0,
              "ticks": ""
             }
            },
            "type": "scattercarpet"
           }
          ],
          "scattergeo": [
           {
            "marker": {
             "colorbar": {
              "outlinewidth": 0,
              "ticks": ""
             }
            },
            "type": "scattergeo"
           }
          ],
          "scattergl": [
           {
            "marker": {
             "colorbar": {
              "outlinewidth": 0,
              "ticks": ""
             }
            },
            "type": "scattergl"
           }
          ],
          "scattermapbox": [
           {
            "marker": {
             "colorbar": {
              "outlinewidth": 0,
              "ticks": ""
             }
            },
            "type": "scattermapbox"
           }
          ],
          "scatterpolar": [
           {
            "marker": {
             "colorbar": {
              "outlinewidth": 0,
              "ticks": ""
             }
            },
            "type": "scatterpolar"
           }
          ],
          "scatterpolargl": [
           {
            "marker": {
             "colorbar": {
              "outlinewidth": 0,
              "ticks": ""
             }
            },
            "type": "scatterpolargl"
           }
          ],
          "scatterternary": [
           {
            "marker": {
             "colorbar": {
              "outlinewidth": 0,
              "ticks": ""
             }
            },
            "type": "scatterternary"
           }
          ],
          "surface": [
           {
            "colorbar": {
             "outlinewidth": 0,
             "ticks": ""
            },
            "colorscale": [
             [
              0,
              "#0d0887"
             ],
             [
              0.1111111111111111,
              "#46039f"
             ],
             [
              0.2222222222222222,
              "#7201a8"
             ],
             [
              0.3333333333333333,
              "#9c179e"
             ],
             [
              0.4444444444444444,
              "#bd3786"
             ],
             [
              0.5555555555555556,
              "#d8576b"
             ],
             [
              0.6666666666666666,
              "#ed7953"
             ],
             [
              0.7777777777777778,
              "#fb9f3a"
             ],
             [
              0.8888888888888888,
              "#fdca26"
             ],
             [
              1,
              "#f0f921"
             ]
            ],
            "type": "surface"
           }
          ],
          "table": [
           {
            "cells": {
             "fill": {
              "color": "#EBF0F8"
             },
             "line": {
              "color": "white"
             }
            },
            "header": {
             "fill": {
              "color": "#C8D4E3"
             },
             "line": {
              "color": "white"
             }
            },
            "type": "table"
           }
          ]
         },
         "layout": {
          "annotationdefaults": {
           "arrowcolor": "#2a3f5f",
           "arrowhead": 0,
           "arrowwidth": 1
          },
          "coloraxis": {
           "colorbar": {
            "outlinewidth": 0,
            "ticks": ""
           }
          },
          "colorscale": {
           "diverging": [
            [
             0,
             "#8e0152"
            ],
            [
             0.1,
             "#c51b7d"
            ],
            [
             0.2,
             "#de77ae"
            ],
            [
             0.3,
             "#f1b6da"
            ],
            [
             0.4,
             "#fde0ef"
            ],
            [
             0.5,
             "#f7f7f7"
            ],
            [
             0.6,
             "#e6f5d0"
            ],
            [
             0.7,
             "#b8e186"
            ],
            [
             0.8,
             "#7fbc41"
            ],
            [
             0.9,
             "#4d9221"
            ],
            [
             1,
             "#276419"
            ]
           ],
           "sequential": [
            [
             0,
             "#0d0887"
            ],
            [
             0.1111111111111111,
             "#46039f"
            ],
            [
             0.2222222222222222,
             "#7201a8"
            ],
            [
             0.3333333333333333,
             "#9c179e"
            ],
            [
             0.4444444444444444,
             "#bd3786"
            ],
            [
             0.5555555555555556,
             "#d8576b"
            ],
            [
             0.6666666666666666,
             "#ed7953"
            ],
            [
             0.7777777777777778,
             "#fb9f3a"
            ],
            [
             0.8888888888888888,
             "#fdca26"
            ],
            [
             1,
             "#f0f921"
            ]
           ],
           "sequentialminus": [
            [
             0,
             "#0d0887"
            ],
            [
             0.1111111111111111,
             "#46039f"
            ],
            [
             0.2222222222222222,
             "#7201a8"
            ],
            [
             0.3333333333333333,
             "#9c179e"
            ],
            [
             0.4444444444444444,
             "#bd3786"
            ],
            [
             0.5555555555555556,
             "#d8576b"
            ],
            [
             0.6666666666666666,
             "#ed7953"
            ],
            [
             0.7777777777777778,
             "#fb9f3a"
            ],
            [
             0.8888888888888888,
             "#fdca26"
            ],
            [
             1,
             "#f0f921"
            ]
           ]
          },
          "colorway": [
           "#636efa",
           "#EF553B",
           "#00cc96",
           "#ab63fa",
           "#FFA15A",
           "#19d3f3",
           "#FF6692",
           "#B6E880",
           "#FF97FF",
           "#FECB52"
          ],
          "font": {
           "color": "#2a3f5f"
          },
          "geo": {
           "bgcolor": "white",
           "lakecolor": "white",
           "landcolor": "#E5ECF6",
           "showlakes": true,
           "showland": true,
           "subunitcolor": "white"
          },
          "hoverlabel": {
           "align": "left"
          },
          "hovermode": "closest",
          "mapbox": {
           "style": "light"
          },
          "paper_bgcolor": "white",
          "plot_bgcolor": "#E5ECF6",
          "polar": {
           "angularaxis": {
            "gridcolor": "white",
            "linecolor": "white",
            "ticks": ""
           },
           "bgcolor": "#E5ECF6",
           "radialaxis": {
            "gridcolor": "white",
            "linecolor": "white",
            "ticks": ""
           }
          },
          "scene": {
           "xaxis": {
            "backgroundcolor": "#E5ECF6",
            "gridcolor": "white",
            "gridwidth": 2,
            "linecolor": "white",
            "showbackground": true,
            "ticks": "",
            "zerolinecolor": "white"
           },
           "yaxis": {
            "backgroundcolor": "#E5ECF6",
            "gridcolor": "white",
            "gridwidth": 2,
            "linecolor": "white",
            "showbackground": true,
            "ticks": "",
            "zerolinecolor": "white"
           },
           "zaxis": {
            "backgroundcolor": "#E5ECF6",
            "gridcolor": "white",
            "gridwidth": 2,
            "linecolor": "white",
            "showbackground": true,
            "ticks": "",
            "zerolinecolor": "white"
           }
          },
          "shapedefaults": {
           "line": {
            "color": "#2a3f5f"
           }
          },
          "ternary": {
           "aaxis": {
            "gridcolor": "white",
            "linecolor": "white",
            "ticks": ""
           },
           "baxis": {
            "gridcolor": "white",
            "linecolor": "white",
            "ticks": ""
           },
           "bgcolor": "#E5ECF6",
           "caxis": {
            "gridcolor": "white",
            "linecolor": "white",
            "ticks": ""
           }
          },
          "title": {
           "x": 0.05
          },
          "xaxis": {
           "automargin": true,
           "gridcolor": "white",
           "linecolor": "white",
           "ticks": "",
           "title": {
            "standoff": 15
           },
           "zerolinecolor": "white",
           "zerolinewidth": 2
          },
          "yaxis": {
           "automargin": true,
           "gridcolor": "white",
           "linecolor": "white",
           "ticks": "",
           "title": {
            "standoff": 15
           },
           "zerolinecolor": "white",
           "zerolinewidth": 2
          }
         }
        },
        "xaxis": {
         "anchor": "y",
         "domain": [
          0,
          1
         ],
         "title": {
          "text": "x"
         }
        },
        "yaxis": {
         "anchor": "x",
         "domain": [
          0,
          1
         ],
         "title": {
          "text": "y"
         }
        }
       }
      },
      "text/html": [
       "<div>\n",
       "        \n",
       "        \n",
       "            <div id=\"ea71a677-5abe-420f-b065-23a20d195ca9\" class=\"plotly-graph-div\" style=\"height:525px; width:100%;\"></div>\n",
       "            <script type=\"text/javascript\">\n",
       "                require([\"plotly\"], function(Plotly) {\n",
       "                    window.PLOTLYENV=window.PLOTLYENV || {};\n",
       "                    \n",
       "                if (document.getElementById(\"ea71a677-5abe-420f-b065-23a20d195ca9\")) {\n",
       "                    Plotly.newPlot(\n",
       "                        'ea71a677-5abe-420f-b065-23a20d195ca9',\n",
       "                        [{\"customdata\": [[\"Damien\"], [\"Scotland\"], [\"Zidane\"], [\"R\"], [\"Gaal\"], [\"Charlotte\"], [\"Joshua\"], [\"Jong\"], [\"un\"], [\"Bernie\"], [\"North\"], [\"Korean\"], [\"India\"], [\"v\"], [\"NHS\"], [\"Netflix\"], [\"princess\"], [\"Cambridge\"], [\"Duchess\"], [\"Brennan\"], [\"eSports\"], [\"AR-15\"], [\"Tesla\"], [\"m\"], [\"York\"], [\"east\"], [\"Mowbray\"], [\"Spain\"], [\"England\"], [\"BBC\"], [\"English\"], [\"SMS\"], [\"Plaid\"], [\"UK\"], [\"MMS\"], [\"BBC\"], [\"MOTD\"], [\"BBC\"], [\"Jimenez\"], [\"Scottish\"], [\"Barca\"]], \"hovertemplate\": \"cluster=0<br>x=%{x}<br>y=%{y}<br>word=%{customdata[0]}<extra></extra>\", \"legendgroup\": \"0\", \"marker\": {\"color\": \"#2E91E5\", \"symbol\": \"circle\"}, \"mode\": \"markers\", \"name\": \"0\", \"showlegend\": true, \"type\": \"scatter\", \"x\": [-0.7173584699630737, -1.3618627786636353, -0.5829857587814331, -0.5692288875579834, -1.1811152696609497, -1.0893903970718384, -0.46941909193992615, -1.052778720855713, -0.917309582233429, -1.1416550874710083, -0.06780752539634705, -1.104928731918335, -1.90032958984375, -0.12592975795269012, -1.8553273677825928, -0.5828648805618286, -0.05367164686322212, -1.4768975973129272, -1.150622010231018, -1.1182444095611572, -1.3581840991973877, -0.706719696521759, -1.1998982429504395, 0.7232913374900818, -1.2952102422714233, -0.08392506092786789, -1.2102653980255127, -1.2728841304779053, -1.686362862586975, -1.4651740789413452, -0.8523714542388916, -0.8514940142631531, -0.5121811032295227, -1.5684077739715576, -0.8514940142631531, -1.4651732444763184, -0.970858633518219, -1.4651741981506348, -0.913305401802063, -1.5160897970199585, -0.6593354344367981], \"xaxis\": \"x\", \"y\": [2.9389753341674805, 2.89532208442688, 3.221081495285034, 2.401082754135132, 2.405442714691162, 2.5107438564300537, 2.6413025856018066, 3.06952166557312, 2.1745753288269043, 2.537484884262085, 0.6254763603210449, 3.1354949474334717, 2.0792717933654785, 2.0430519580841064, 1.4068198204040527, 1.7532943487167358, 2.885523557662964, 2.247753143310547, 1.797249674797058, 2.8564951419830322, 2.2396349906921387, 1.8990260362625122, 1.9048395156860352, 2.056225538253784, 2.355088949203491, 0.6140886545181274, 2.8590385913848877, 2.6861164569854736, 2.7577059268951416, 2.8895750045776367, 2.751734495162964, 2.215484619140625, 2.1753835678100586, 2.2349236011505127, 2.215484619140625, 2.8895740509033203, 2.7891275882720947, 2.8895745277404785, 2.827371597290039, 2.9955332279205322, 3.0204765796661377], \"yaxis\": \"y\"}, {\"customdata\": [[\"3\"], [\"10\"], [\"hours\"], [\"58\"], [\"5\"], [\"day\"], [\"seconds\"], [\"minutes\"], [\"weeks\"], [\"11\"], [\"\\u00a3\"], [\"ago\"], [\"minute\"], [\"17\"], [\"hour\"]], \"hovertemplate\": \"cluster=1<br>x=%{x}<br>y=%{y}<br>word=%{customdata[0]}<extra></extra>\", \"legendgroup\": \"1\", \"marker\": {\"color\": \"#E15F99\", \"symbol\": \"circle\"}, \"mode\": \"markers\", \"name\": \"1\", \"showlegend\": true, \"type\": \"scatter\", \"x\": [1.8643648624420166, 1.9859154224395752, 4.55313777923584, 1.3814482688903809, 2.0378663539886475, 1.867272138595581, 2.926607370376587, 4.390783786773682, 2.4997501373291016, 1.8121503591537476, 1.4170092344284058, 2.8029401302337646, 2.508098840713501, 1.7628623247146606, 3.624912977218628], \"xaxis\": \"x\", \"y\": [1.1286529302597046, 0.48229098320007324, -1.651109218597412, 0.8870305418968201, 0.8246670365333557, -0.29869046807289124, -0.5715579390525818, -1.54344642162323, -0.7488183379173279, 0.9757177233695984, 1.5156548023223877, 0.6995229125022888, -0.6989502310752869, 0.9238819479942322, -1.4419540166854858], \"yaxis\": \"y\"}, {\"customdata\": [[\"viral\"], [\"Ebola\"], [\"anti\"], [\"Drug\"], [\"coronavirus\"], [\"drug\"], [\"flu\"], [\"virus\"], [\"patients\"], [\"antibodies\"], [\"outbreak\"], [\"plasma\"], [\"vaccine\"], [\"vaccinations\"], [\"pandemic\"]], \"hovertemplate\": \"cluster=2<br>x=%{x}<br>y=%{y}<br>word=%{customdata[0]}<extra></extra>\", \"legendgroup\": \"2\", \"marker\": {\"color\": \"#1CA71C\", \"symbol\": \"circle\"}, \"mode\": \"markers\", \"name\": \"2\", \"showlegend\": true, \"type\": \"scatter\", \"x\": [-2.2370803356170654, -2.2370643615722656, -2.545402765274048, -1.7835499048233032, -3.305098295211792, -1.7835499048233032, -1.9143749475479126, -3.305098295211792, -0.592739462852478, -1.666680097579956, -2.0115766525268555, -1.2227367162704468, -2.6996779441833496, -2.2853920459747314, -2.6602301597595215], \"xaxis\": \"x\", \"y\": [-1.000059723854065, 0.5196384191513062, 0.6089838147163391, -1.6617592573165894, -1.496553659439087, -1.6617592573165894, -1.134237289428711, -1.496553659439087, -2.579895496368408, -1.6352126598358154, -1.3193855285644531, -0.976935088634491, -2.172497034072876, -1.83229660987854, -1.061598777770996], \"yaxis\": \"y\"}, {\"customdata\": [[\"\\u2605\"], [\"\\u2606\"]], \"hovertemplate\": \"cluster=3<br>x=%{x}<br>y=%{y}<br>word=%{customdata[0]}<extra></extra>\", \"legendgroup\": \"3\", \"marker\": {\"color\": \"#FB0D0D\", \"symbol\": \"circle\"}, \"mode\": \"markers\", \"name\": \"3\", \"showlegend\": true, \"type\": \"scatter\", \"x\": [2.2903332710266113, 2.2903332710266113], \"xaxis\": \"x\", \"y\": [5.729086875915527, 5.729086875915527], \"yaxis\": \"y\"}, {\"customdata\": [[\"know\"], [\"home\"], [\"confirmed\"], [\"cancelled\"], [\"tornado\"], [\"hits\"], [\"driver\"], [\"toast\"], [\"offender\"], [\"mistake\"], [\"haunt\"], [\"dying\"], [\"wants\"], [\"Ground\"], [\"Zero\"], [\"bombarded\"], [\"bring\"], [\"hair\"], [\"new\"], [\"cut\"], [\"tests\"], [\"100,000\"], [\"cases\"], [\"rest\"], [\"follow\"], [\"Tracking\"], [\"Papers\"], [\"need\"], [\"class\"], [\"developing\"], [\"latest\"], [\"Radio\"], [\"exclusive\"], [\"important\"], [\"preparations\"], [\"settings\"], [\"Newscast\"], [\"gambling\"], [\"Trump\"], [\"selling\"], [\"love\"], [\"Northern\"], [\"today\"], [\"lie\"], [\"headlines\"], [\"international\"], [\"Change\"], [\"White\"], [\"2016\"], [\"House\"], [\"fight\"], [\"pictures\"], [\"$\"], [\"internet\"], [\"genius\"], [\"Van\"], [\"brush\"], [\"nightmare\"], [\"predict\"], [\"Experts\"], [\"ended\"], [\"Championship\"], [\"Fury\"], [\"begin\"], [\"League\"], [\"Premier\"], [\"finish\"], [\"needed\"], [\"venues\"], [\"memorable\"], [\"open\"], [\"Real\"], [\"Man\"], [\"approach\"], [\"sites\"], [\"external\"], [\"content\"], [\"responsible\"], [\"2020\"], [\"\\u00a9\"], [\"dismissed\"], [\"Personalised\"], [\"Explore\"], [\"Car\"], [\"trust\"], [\"weekday\"], [\"inbox\"], [\"daily\"], [\"Find\"], [\"Terms\"], [\"stop\"], [\"claim\"], [\"equal\"], [\"Musk\"], [\"disappeared\"], [\"teen\"], [\"dinosaur\"], [\"secret\"], [\"read\"], [\"years\"], [\"teacher\"], [\"boy\"], [\"happened\"], [\"God\"], [\"prayed\"], [\"Long\"], [\"local\"], [\"Local\"], [\"tweet\"], [\"wipes\"], [\"party\"], [\"14bn\"], [\"Women\"], [\"radio\"], [\"final\"], [\"Cup\"], [\"World\"], [\"2017\"], [\"workers\"], [\"pay\"], [\"gaming\"], [\"skinned\"], [\"chat\"], [\"video\"], [\"pleads\"], [\"tournament\"], [\"International\"], [\"divide\"], [\"girls\"], [\"ICU\"], [\"Home\"], [\"Training\"], [\"biggest\"], [\"leader\"], [\"speculation\"], [\"amid\"], [\"comes\"], [\"appearance\"], [\"reported\"], [\"media\"], [\"state\"], [\"public\"], [\"appears\"], [\"life\"], [\"everyday\"], [\"aspects\"], [\"restrictions\"], [\"challenge\"], [\"come\"], [\"target\"], [\"met\"], [\"use\"], [\"emergency\"], [\"Administration\"], [\"Food\"], [\"authorises\"], [\"ill\"], [\"seriously\"], [\"people\"], [\"contact\"], [\"paramedics\"], [\"Video\"], [\"miss\"], [\"Hit\"], [\"debut\"], [\"questions\"], [\"lots\"], [\"point\"], [\"experimental\"], [\"clear\"], [\"built\"], [\"account\"], [\"signing\"], [\"nation\"], [\"setting\"], [\"sign\"], [\"better\"], [\"Read\"], [\"Latest\"], [\"news\"], [\"breaking\"], [\"Home\"], [\"News\"], [\"Education\"], [\"Car\"], [\"News\"], [\"later\"], [\"seeing\"], [\"stories\"], [\"changing\"], [\"recovered\"], [\"hoped\"], [\"interest\"], [\"signal\"], [\"global\"], [\"close\"], [\"crucial\"], [\"help\"], [\"seven\"], [\"exercise\"], [\"allowed\"], [\"lockdown\"], [\"outside\"], [\"heads\"], [\"notification\"], [\"nations\"], [\"time\"], [\"completed\"], [\"asked\"], [\"transport\"], [\"narrative\"], [\"music\"], [\"casting\"], [\"Excellent\"], [\"nurse\"], [\"hospice\"], [\"dedicated\"], [\"Tribute\"], [\"online\"], [\"free\"], [\"gets\"], [\"movie\"], [\"rolling\"], [\"Cheese\"], [\"terrified\"], [\"plodding\"], [\"predictable\"], [\"sequence\"], [\"events\"], [\"fostering\"], [\"delay\"], [\"number\"], [\"work\"], [\"publication\"], [\"Thousands\"], [\"coping\"], [\"donating\"], [\"advice\"], [\"Adventurer\"], [\"following\"], [\"football\"], [\"flight\"], [\"weekend\"], [\"Sixth\"], [\"external\"], [\"shares\"], [\"check\"], [\"updates\"], [\"helping\"], [\"says\"], [\"child\"], [\"parents\"], [\"urges\"], [\"property\"], [\"hurt\"], [\"pair\"], [\"found\"], [\"injured\"], [\"man\"], [\"shot\"], [\"easing\"], [\"plans\"], [\"considered\"], [\"safer\"], [\"essential\"], [\"provided\"], [\"despite\"], [\"Trust\"], [\"taken\"], [\"photos\"], [\"turns\"], [\"needy\"], [\"food\"], [\"takes\"], [\"sectors\"], [\"deliver\"], [\"wildlife\"], [\"urgent\"], [\"calls\"], [\"charity\"], [\"conservation\"], [\"losses\"], [\"200\"], [\"faces\"], [\"support\"], [\"linking\"]], \"hovertemplate\": \"cluster=4<br>x=%{x}<br>y=%{y}<br>word=%{customdata[0]}<extra></extra>\", \"legendgroup\": \"4\", \"marker\": {\"color\": \"#DA16FF\", \"symbol\": \"circle\"}, \"mode\": \"markers\", \"name\": \"4\", \"showlegend\": true, \"type\": \"scatter\", \"x\": [-0.19317367672920227, 0.02729383111000061, -0.3888552188873291, 0.2024078071117401, 0.07896770536899567, 0.38224947452545166, -0.3229340612888336, 0.3405047655105591, -0.9721540212631226, -0.4878970682621002, -0.3977736234664917, -0.31798678636550903, -0.5726814866065979, -0.05255424231290817, -0.4154626727104187, -0.4448733329772949, -0.41630011796951294, 0.19969643652439117, -0.7235509157180786, 0.15288956463336945, -0.7806715369224548, 0.1515125036239624, -1.0416191816329956, 0.5201740264892578, 0.1382017880678177, -0.9559475779533386, -0.3984798789024353, -0.3870560824871063, -0.1036120057106018, -1.6761329174041748, -0.6971046924591064, -0.583486795425415, -0.2855001986026764, -1.171616554260254, -0.2597711980342865, -0.47989898920059204, -0.5127829313278198, -1.4638499021530151, -1.3717827796936035, -0.6509389877319336, 0.21801058948040009, -0.9147861003875732, 0.24697083234786987, -0.4193041920661926, -1.0337847471237183, -1.2567253112792969, -0.758042573928833, -0.2378871738910675, -0.042609285563230515, 0.13031667470932007, -0.7368831634521484, -0.002764177042990923, 1.3175842761993408, -1.111218810081482, -0.8315481543540955, -0.02990800514817238, 0.01836155168712139, -0.3168446123600006, -1.2553552389144897, -1.3325082063674927, 0.7103334665298462, 0.1809258759021759, -0.4461686909198761, 0.17400895059108734, -0.26302269101142883, -1.1935077905654907, 1.0942519903182983, -0.05950551852583885, -0.24501383304595947, 0.3031674325466156, -0.08613072335720062, -0.8714361786842346, -0.25216275453567505, -1.3106235265731812, -0.9589141607284546, -1.2093346118927002, -0.7286235094070435, -1.2991126775741577, -0.08651144802570343, -1.1334805488586426, -0.4952639639377594, -0.7066329121589661, -0.46838119626045227, 0.022557567805051804, -1.183361291885376, 1.5873337984085083, -0.3790663778781891, 0.7047551870346069, -0.4001789093017578, -0.9711039662361145, 0.0795513167977333, -0.960825502872467, -0.23448607325553894, -0.383901983499527, 0.07458919286727905, -0.5695700645446777, -0.6913111805915833, -0.6262842416763306, 0.48142391443252563, 1.3547677993774414, -0.19017432630062103, 0.04070046544075012, 0.36497804522514343, -0.7627336382865906, 0.7851322293281555, 0.872064471244812, -0.6946331858634949, -0.6946331858634949, 0.4369126558303833, -0.7056704759597778, -0.3218272030353546, 0.7193223237991333, -0.8337744474411011, -0.583486795425415, 0.4883609414100647, 0.8178548216819763, -0.9797751903533936, -0.042609285563230515, -0.6162959337234497, -0.06058475747704506, -0.44992104172706604, -0.2609523832798004, -0.18566258251667023, -0.04755903407931328, -0.38829827308654785, -0.06980776786804199, -1.2567253112792969, -0.6659506559371948, -0.028812330216169357, -0.7392006516456604, 0.02728191204369068, -0.1410830318927765, -0.853886067867279, -0.9689635038375854, -0.9614496231079102, -0.27121153473854065, -0.33700239658355713, -0.4513009488582611, -0.36206305027008057, -1.1929823160171509, -1.025720477104187, -0.9904212355613708, -0.7338142991065979, -0.03411732241511345, 0.023681845515966415, -1.573968768119812, -1.1815904378890991, -0.45194387435913086, -0.19817066192626953, -1.0951193571090698, 0.2700093984603882, -0.6289302110671997, -0.49272260069847107, -1.0780082941055298, -0.7558752298355103, -0.7981859445571899, -0.7130600214004517, -0.5089256763458252, -0.3374338746070862, -0.33679503202438354, 0.08055542409420013, -0.04755903407931328, 0.3709199130535126, 0.19565251469612122, 0.21549464762210846, -0.22432908415794373, 0.26837778091430664, 0.1869594007730484, -1.548938512802124, -0.33249983191490173, -0.3926152288913727, -0.5609205961227417, -0.06416714936494827, -1.3526387214660645, -0.1472323089838028, -0.3015727698802948, -0.35775166749954224, 0.48142391443252563, -0.6971046924591064, -0.9750853180885315, -0.22962254285812378, 0.02729383111000061, -0.9750853180885315, -1.4627676010131836, 0.022557571530342102, -0.9750853180885315, 0.8301575183868408, -0.07483774423599243, -0.5225107073783875, -0.8803057074546814, -0.19027262926101685, -0.5351106524467468, -0.7409370541572571, -0.9289783835411072, -2.0258398056030273, 0.3980933427810669, -1.2010326385498047, -0.8370544910430908, 0.9327941536903381, -0.2645265460014343, -0.14257027208805084, 0.3397747576236725, 0.19445934891700745, -0.22915135324001312, -0.6654353737831116, -1.560760259628296, 1.132062554359436, 0.8831514120101929, 0.16312488913536072, -1.036895513534546, -1.003044605255127, -0.21893109381198883, -0.3405691087245941, -0.14722390472888947, -0.0918639749288559, -0.19021862745285034, -0.7329232096672058, -0.3006380498409271, -0.6399770975112915, -0.5398221611976624, 0.2290685921907425, -0.06950938701629639, 0.2975213825702667, 0.21580928564071655, -0.2410888522863388, 0.08338423073291779, -0.9348920583724976, -0.5337926745414734, -0.6711962819099426, -1.3121554851531982, 0.15331444144248962, -0.19210366904735565, 0.07352939993143082, -1.1385434865951538, -0.6611599326133728, -1.381200909614563, -0.852954626083374, -0.8622304797172546, -0.4879864454269409, 0.10836608707904816, -0.46703746914863586, 0.660359799861908, 1.1777219772338867, -0.057857733219861984, -1.209334135055542, -0.3042719066143036, 0.10731659829616547, -0.12267907708883286, -0.8488970994949341, -0.512406587600708, -0.4272140860557556, -0.30214932560920715, -1.2587225437164307, -0.7998808026313782, -0.4377598166465759, 0.2531280815601349, -0.14929364621639252, 0.15105637907981873, -0.25216275453567505, 0.693195641040802, -0.950033962726593, -0.8597539663314819, -1.0831769704818726, -1.3761485815048218, -1.2330185174942017, -0.3815622925758362, -0.44455909729003906, -1.183361291885376, 0.1949329972267151, 0.42401134967803955, 0.3413684666156769, -1.0014833211898804, -0.7558752298355103, 0.5360903739929199, -1.7028056383132935, -0.4238342046737671, -1.340753197669983, -1.0133743286132812, 0.12018309533596039, -1.0031101703643799, -1.7718323469161987, -0.7186806797981262, 0.9975923299789429, -0.11595114320516586, -0.9771233797073364, -1.2103867530822754], \"xaxis\": \"x\", \"y\": [0.3535667955875397, -0.15717551112174988, -0.9418195486068726, 0.1366218775510788, -0.1605786830186844, 0.652406632900238, -0.506024181842804, 1.4700747728347778, -0.3005989193916321, -0.033781807869672775, 0.5371015071868896, 0.13144750893115997, 0.2611216604709625, -0.5398557782173157, -0.1509031057357788, -0.1768677979707718, -0.15013591945171356, 1.0808676481246948, 0.20488925278186798, -0.013240152969956398, -1.3724002838134766, -0.5720585584640503, -1.6039139032363892, -0.3614436089992523, 0.014053610153496265, -0.49564027786254883, 0.00020340892660897225, -0.4355052709579468, -0.22815722227096558, -1.5634236335754395, 0.15299807488918304, 0.40785375237464905, 0.30537834763526917, -1.1262341737747192, -1.4113576412200928, -0.5280159115791321, -0.27676233649253845, 0.17005540430545807, 1.109997034072876, 0.17600786685943604, 2.3793015480041504, 0.2223558872938156, 0.04419911280274391, 0.3717133700847626, 0.27789753675460815, -0.18590117990970612, -0.6687978506088257, 0.9535649418830872, 0.6099254488945007, 0.4113389551639557, -0.21358487010002136, 1.5573049783706665, 0.7572265267372131, 0.16826431453227997, 0.996861457824707, 1.0980368852615356, 0.5487999320030212, 0.22174996137619019, -0.7621335983276367, -1.1148262023925781, -0.2675734758377075, 0.6520957946777344, 0.8843618035316467, -1.024148941040039, 0.47010812163352966, 0.7215988636016846, 0.12614615261554718, -1.0920413732528687, 0.1521615982055664, 0.470714807510376, -0.41157710552215576, 0.2171396017074585, 0.3967284560203552, -1.2945597171783447, -0.26408496499061584, -1.0024999380111694, -0.644547164440155, -1.393817663192749, 0.20945490896701813, 0.6724738478660583, -0.6592063903808594, 1.4604361057281494, -0.3834276497364044, 0.13651832938194275, 0.4171048700809479, 0.1595466136932373, 0.8730109930038452, -0.7905332446098328, 0.042517904192209244, -0.8306901454925537, -0.3815021812915802, -0.8763614296913147, -0.45845502614974976, 0.8878778219223022, -0.3452320694923401, 1.652830719947815, 1.0804084539413452, 0.6067373752593994, 0.37242311239242554, -0.6560966968536377, 0.21030278503894806, 1.5860861539840698, -0.06803694367408752, 1.9043740034103394, 0.32502275705337524, -0.2754201591014862, -0.9424521923065186, -0.9424521923065186, 1.0847296714782715, 0.5592225193977356, 0.5887672901153564, 0.6369850635528564, 0.14927877485752106, 0.40785375237464905, -0.3056585490703583, 1.4703764915466309, 0.32334548234939575, 0.6099254488945007, -1.8290995359420776, -0.5712396502494812, 0.3809139132499695, 1.0063176155090332, 1.212372899055481, 1.0366562604904175, -0.0032581558916717768, 0.31672534346580505, -0.18590117990970612, -0.2280707210302353, 1.7776864767074585, -0.5042498111724854, -0.1571980118751526, -0.9580371975898743, 0.17407026886940002, -0.2980518639087677, -0.5010623931884766, -0.291991651058197, -0.29111239314079285, -0.4362708628177643, -1.8896616697311401, -0.6621778011322021, -1.2262314558029175, -1.3408793210983276, -0.8187286853790283, -0.0075163948349654675, 0.1402277648448944, -0.9506721496582031, -1.1742056608200073, -0.23121856153011322, -0.010951240547001362, -0.9382252097129822, 0.2367015928030014, -0.7066984176635742, -1.6911216974258423, -2.1792213916778564, -0.11135631799697876, -0.7874907851219177, 0.4369341731071472, 0.2372896522283554, -0.583030641078949, -0.29021328687667847, -0.845007598400116, 1.0366562604904175, 1.6659427881240845, 0.06027405709028244, 0.9659402370452881, -0.5869423747062683, 0.3620995581150055, -0.6703296899795532, -0.9443994760513306, -0.6975619196891785, -0.23777329921722412, -0.4018581211566925, 0.0883498415350914, -0.417635440826416, -0.9223908185958862, 0.10050906985998154, -0.05778909847140312, 0.37242311239242554, 0.15299807488918304, 0.40922653675079346, -0.05902023985981941, -0.15717551112174988, 0.40922653675079346, -0.8633887767791748, 0.13651829957962036, 0.4092271625995636, -0.8838999271392822, 0.030517185106873512, 0.48484861850738525, -0.6194188594818115, -1.0937896966934204, -0.46382635831832886, -0.7904952168464661, -1.0526477098464966, -0.573161780834198, -0.3756410777568817, -1.2123123407363892, -0.5537973642349243, -0.855275571346283, -1.0215861797332764, -0.9538046717643738, -0.44028356671333313, -1.0204697847366333, -0.0056906286627054214, -0.725889265537262, -0.2604195475578308, -0.7756404280662537, -0.7958413362503052, -0.15253132581710815, -0.8509161472320557, -0.3863997757434845, 1.0521632432937622, 0.6514731049537659, -0.07822152972221375, -0.3515636622905731, -1.1853207349777222, -0.12990687787532806, 1.6459109783172607, 0.25870534777641296, 0.32625824213027954, -0.09866515547037125, 1.276862382888794, 0.21284250915050507, 0.877820611000061, 0.13284853100776672, -0.44863274693489075, -0.4230811595916748, -0.797551691532135, -0.5407471060752869, 0.3646119236946106, -1.3018972873687744, -0.7213365435600281, -0.766695499420166, -0.28375017642974854, -0.9502071738243103, -0.17877693474292755, 0.2412303239107132, 0.04837913438677788, 0.3195497393608093, -1.1163220405578613, 0.9721105694770813, -0.5139892101287842, 0.21788431704044342, 0.0024646727833896875, -1.0024995803833008, -0.11743724346160889, 0.2265702188014984, 0.2490909844636917, -0.601112425327301, 0.12583020329475403, -0.20622339844703674, -0.2750594913959503, -0.2901216149330139, -0.6094033122062683, 0.0712192952632904, 0.6942079067230225, -0.4075409770011902, -0.9114521741867065, 0.3967284560203552, -0.20044077932834625, -1.2418025732040405, -0.68853360414505, -0.9360432028770447, -0.8005995750427246, -0.8642771244049072, -1.2441937923431396, -1.2283893823623657, 0.4171048700809479, -0.9047725200653076, 1.4884967803955078, -0.21278879046440125, 0.2628178596496582, -0.11135631799697876, -0.5284437537193298, -1.2103453874588013, -0.855154812335968, -0.04769686982035637, -0.6353968381881714, -0.6412720084190369, 0.5236725807189941, -0.6519618034362793, -0.9684744477272034, 0.19451551139354706, 0.1316388100385666, -0.6186197996139526, -0.1562729924917221], \"yaxis\": \"y\"}],\n",
       "                        {\"legend\": {\"title\": {\"text\": \"cluster\"}, \"tracegroupgap\": 0}, \"margin\": {\"t\": 60}, \"template\": {\"data\": {\"bar\": [{\"error_x\": {\"color\": \"#2a3f5f\"}, \"error_y\": {\"color\": \"#2a3f5f\"}, \"marker\": {\"line\": {\"color\": \"#E5ECF6\", \"width\": 0.5}}, \"type\": \"bar\"}], \"barpolar\": [{\"marker\": {\"line\": {\"color\": \"#E5ECF6\", \"width\": 0.5}}, \"type\": \"barpolar\"}], \"carpet\": [{\"aaxis\": {\"endlinecolor\": \"#2a3f5f\", \"gridcolor\": \"white\", \"linecolor\": \"white\", \"minorgridcolor\": \"white\", \"startlinecolor\": \"#2a3f5f\"}, \"baxis\": {\"endlinecolor\": \"#2a3f5f\", \"gridcolor\": \"white\", \"linecolor\": \"white\", \"minorgridcolor\": \"white\", \"startlinecolor\": \"#2a3f5f\"}, \"type\": \"carpet\"}], \"choropleth\": [{\"colorbar\": {\"outlinewidth\": 0, \"ticks\": \"\"}, \"type\": \"choropleth\"}], \"contour\": [{\"colorbar\": {\"outlinewidth\": 0, \"ticks\": \"\"}, \"colorscale\": [[0.0, \"#0d0887\"], [0.1111111111111111, \"#46039f\"], [0.2222222222222222, \"#7201a8\"], [0.3333333333333333, \"#9c179e\"], [0.4444444444444444, \"#bd3786\"], [0.5555555555555556, \"#d8576b\"], [0.6666666666666666, \"#ed7953\"], [0.7777777777777778, \"#fb9f3a\"], [0.8888888888888888, \"#fdca26\"], [1.0, \"#f0f921\"]], \"type\": \"contour\"}], \"contourcarpet\": [{\"colorbar\": {\"outlinewidth\": 0, \"ticks\": \"\"}, \"type\": \"contourcarpet\"}], \"heatmap\": [{\"colorbar\": {\"outlinewidth\": 0, \"ticks\": \"\"}, \"colorscale\": [[0.0, \"#0d0887\"], [0.1111111111111111, \"#46039f\"], [0.2222222222222222, \"#7201a8\"], [0.3333333333333333, \"#9c179e\"], [0.4444444444444444, \"#bd3786\"], [0.5555555555555556, \"#d8576b\"], [0.6666666666666666, \"#ed7953\"], [0.7777777777777778, \"#fb9f3a\"], [0.8888888888888888, \"#fdca26\"], [1.0, \"#f0f921\"]], \"type\": \"heatmap\"}], \"heatmapgl\": [{\"colorbar\": {\"outlinewidth\": 0, \"ticks\": \"\"}, \"colorscale\": [[0.0, \"#0d0887\"], [0.1111111111111111, \"#46039f\"], [0.2222222222222222, \"#7201a8\"], [0.3333333333333333, \"#9c179e\"], [0.4444444444444444, \"#bd3786\"], [0.5555555555555556, \"#d8576b\"], [0.6666666666666666, \"#ed7953\"], [0.7777777777777778, \"#fb9f3a\"], [0.8888888888888888, \"#fdca26\"], [1.0, \"#f0f921\"]], \"type\": \"heatmapgl\"}], \"histogram\": [{\"marker\": {\"colorbar\": {\"outlinewidth\": 0, \"ticks\": \"\"}}, \"type\": \"histogram\"}], \"histogram2d\": [{\"colorbar\": {\"outlinewidth\": 0, \"ticks\": \"\"}, \"colorscale\": [[0.0, \"#0d0887\"], [0.1111111111111111, \"#46039f\"], [0.2222222222222222, \"#7201a8\"], [0.3333333333333333, \"#9c179e\"], [0.4444444444444444, \"#bd3786\"], [0.5555555555555556, \"#d8576b\"], [0.6666666666666666, \"#ed7953\"], [0.7777777777777778, \"#fb9f3a\"], [0.8888888888888888, \"#fdca26\"], [1.0, \"#f0f921\"]], \"type\": \"histogram2d\"}], \"histogram2dcontour\": [{\"colorbar\": {\"outlinewidth\": 0, \"ticks\": \"\"}, \"colorscale\": [[0.0, \"#0d0887\"], [0.1111111111111111, \"#46039f\"], [0.2222222222222222, \"#7201a8\"], [0.3333333333333333, \"#9c179e\"], [0.4444444444444444, \"#bd3786\"], [0.5555555555555556, \"#d8576b\"], [0.6666666666666666, \"#ed7953\"], [0.7777777777777778, \"#fb9f3a\"], [0.8888888888888888, \"#fdca26\"], [1.0, \"#f0f921\"]], \"type\": \"histogram2dcontour\"}], \"mesh3d\": [{\"colorbar\": {\"outlinewidth\": 0, \"ticks\": \"\"}, \"type\": \"mesh3d\"}], \"parcoords\": [{\"line\": {\"colorbar\": {\"outlinewidth\": 0, \"ticks\": \"\"}}, \"type\": \"parcoords\"}], \"pie\": [{\"automargin\": true, \"type\": \"pie\"}], \"scatter\": [{\"marker\": {\"colorbar\": {\"outlinewidth\": 0, \"ticks\": \"\"}}, \"type\": \"scatter\"}], \"scatter3d\": [{\"line\": {\"colorbar\": {\"outlinewidth\": 0, \"ticks\": \"\"}}, \"marker\": {\"colorbar\": {\"outlinewidth\": 0, \"ticks\": \"\"}}, \"type\": \"scatter3d\"}], \"scattercarpet\": [{\"marker\": {\"colorbar\": {\"outlinewidth\": 0, \"ticks\": \"\"}}, \"type\": \"scattercarpet\"}], \"scattergeo\": [{\"marker\": {\"colorbar\": {\"outlinewidth\": 0, \"ticks\": \"\"}}, \"type\": \"scattergeo\"}], \"scattergl\": [{\"marker\": {\"colorbar\": {\"outlinewidth\": 0, \"ticks\": \"\"}}, \"type\": \"scattergl\"}], \"scattermapbox\": [{\"marker\": {\"colorbar\": {\"outlinewidth\": 0, \"ticks\": \"\"}}, \"type\": \"scattermapbox\"}], \"scatterpolar\": [{\"marker\": {\"colorbar\": {\"outlinewidth\": 0, \"ticks\": \"\"}}, \"type\": \"scatterpolar\"}], \"scatterpolargl\": [{\"marker\": {\"colorbar\": {\"outlinewidth\": 0, \"ticks\": \"\"}}, \"type\": \"scatterpolargl\"}], \"scatterternary\": [{\"marker\": {\"colorbar\": {\"outlinewidth\": 0, \"ticks\": \"\"}}, \"type\": \"scatterternary\"}], \"surface\": [{\"colorbar\": {\"outlinewidth\": 0, \"ticks\": \"\"}, \"colorscale\": [[0.0, \"#0d0887\"], [0.1111111111111111, \"#46039f\"], [0.2222222222222222, \"#7201a8\"], [0.3333333333333333, \"#9c179e\"], [0.4444444444444444, \"#bd3786\"], [0.5555555555555556, \"#d8576b\"], [0.6666666666666666, \"#ed7953\"], [0.7777777777777778, \"#fb9f3a\"], [0.8888888888888888, \"#fdca26\"], [1.0, \"#f0f921\"]], \"type\": \"surface\"}], \"table\": [{\"cells\": {\"fill\": {\"color\": \"#EBF0F8\"}, \"line\": {\"color\": \"white\"}}, \"header\": {\"fill\": {\"color\": \"#C8D4E3\"}, \"line\": {\"color\": \"white\"}}, \"type\": \"table\"}]}, \"layout\": {\"annotationdefaults\": {\"arrowcolor\": \"#2a3f5f\", \"arrowhead\": 0, \"arrowwidth\": 1}, \"coloraxis\": {\"colorbar\": {\"outlinewidth\": 0, \"ticks\": \"\"}}, \"colorscale\": {\"diverging\": [[0, \"#8e0152\"], [0.1, \"#c51b7d\"], [0.2, \"#de77ae\"], [0.3, \"#f1b6da\"], [0.4, \"#fde0ef\"], [0.5, \"#f7f7f7\"], [0.6, \"#e6f5d0\"], [0.7, \"#b8e186\"], [0.8, \"#7fbc41\"], [0.9, \"#4d9221\"], [1, \"#276419\"]], \"sequential\": [[0.0, \"#0d0887\"], [0.1111111111111111, \"#46039f\"], [0.2222222222222222, \"#7201a8\"], [0.3333333333333333, \"#9c179e\"], [0.4444444444444444, \"#bd3786\"], [0.5555555555555556, \"#d8576b\"], [0.6666666666666666, \"#ed7953\"], [0.7777777777777778, \"#fb9f3a\"], [0.8888888888888888, \"#fdca26\"], [1.0, \"#f0f921\"]], \"sequentialminus\": [[0.0, \"#0d0887\"], [0.1111111111111111, \"#46039f\"], [0.2222222222222222, \"#7201a8\"], [0.3333333333333333, \"#9c179e\"], [0.4444444444444444, \"#bd3786\"], [0.5555555555555556, \"#d8576b\"], [0.6666666666666666, \"#ed7953\"], [0.7777777777777778, \"#fb9f3a\"], [0.8888888888888888, \"#fdca26\"], [1.0, \"#f0f921\"]]}, \"colorway\": [\"#636efa\", \"#EF553B\", \"#00cc96\", \"#ab63fa\", \"#FFA15A\", \"#19d3f3\", \"#FF6692\", \"#B6E880\", \"#FF97FF\", \"#FECB52\"], \"font\": {\"color\": \"#2a3f5f\"}, \"geo\": {\"bgcolor\": \"white\", \"lakecolor\": \"white\", \"landcolor\": \"#E5ECF6\", \"showlakes\": true, \"showland\": true, \"subunitcolor\": \"white\"}, \"hoverlabel\": {\"align\": \"left\"}, \"hovermode\": \"closest\", \"mapbox\": {\"style\": \"light\"}, \"paper_bgcolor\": \"white\", \"plot_bgcolor\": \"#E5ECF6\", \"polar\": {\"angularaxis\": {\"gridcolor\": \"white\", \"linecolor\": \"white\", \"ticks\": \"\"}, \"bgcolor\": \"#E5ECF6\", \"radialaxis\": {\"gridcolor\": \"white\", \"linecolor\": \"white\", \"ticks\": \"\"}}, \"scene\": {\"xaxis\": {\"backgroundcolor\": \"#E5ECF6\", \"gridcolor\": \"white\", \"gridwidth\": 2, \"linecolor\": \"white\", \"showbackground\": true, \"ticks\": \"\", \"zerolinecolor\": \"white\"}, \"yaxis\": {\"backgroundcolor\": \"#E5ECF6\", \"gridcolor\": \"white\", \"gridwidth\": 2, \"linecolor\": \"white\", \"showbackground\": true, \"ticks\": \"\", \"zerolinecolor\": \"white\"}, \"zaxis\": {\"backgroundcolor\": \"#E5ECF6\", \"gridcolor\": \"white\", \"gridwidth\": 2, \"linecolor\": \"white\", \"showbackground\": true, \"ticks\": \"\", \"zerolinecolor\": \"white\"}}, \"shapedefaults\": {\"line\": {\"color\": \"#2a3f5f\"}}, \"ternary\": {\"aaxis\": {\"gridcolor\": \"white\", \"linecolor\": \"white\", \"ticks\": \"\"}, \"baxis\": {\"gridcolor\": \"white\", \"linecolor\": \"white\", \"ticks\": \"\"}, \"bgcolor\": \"#E5ECF6\", \"caxis\": {\"gridcolor\": \"white\", \"linecolor\": \"white\", \"ticks\": \"\"}}, \"title\": {\"x\": 0.05}, \"xaxis\": {\"automargin\": true, \"gridcolor\": \"white\", \"linecolor\": \"white\", \"ticks\": \"\", \"title\": {\"standoff\": 15}, \"zerolinecolor\": \"white\", \"zerolinewidth\": 2}, \"yaxis\": {\"automargin\": true, \"gridcolor\": \"white\", \"linecolor\": \"white\", \"ticks\": \"\", \"title\": {\"standoff\": 15}, \"zerolinecolor\": \"white\", \"zerolinewidth\": 2}}}, \"xaxis\": {\"anchor\": \"y\", \"domain\": [0.0, 1.0], \"title\": {\"text\": \"x\"}}, \"yaxis\": {\"anchor\": \"x\", \"domain\": [0.0, 1.0], \"title\": {\"text\": \"y\"}}},\n",
       "                        {\"responsive\": true}\n",
       "                    ).then(function(){\n",
       "                            \n",
       "var gd = document.getElementById('ea71a677-5abe-420f-b065-23a20d195ca9');\n",
       "var x = new MutationObserver(function (mutations, observer) {{\n",
       "        var display = window.getComputedStyle(gd).display;\n",
       "        if (!display || display === 'none') {{\n",
       "            console.log([gd, 'removed!']);\n",
       "            Plotly.purge(gd);\n",
       "            observer.disconnect();\n",
       "        }}\n",
       "}});\n",
       "\n",
       "// Listen for the removal of the full notebook cells\n",
       "var notebookContainer = gd.closest('#notebook-container');\n",
       "if (notebookContainer) {{\n",
       "    x.observe(notebookContainer, {childList: true});\n",
       "}}\n",
       "\n",
       "// Listen for the clearing of the current output cell\n",
       "var outputEl = gd.closest('.output');\n",
       "if (outputEl) {{\n",
       "    x.observe(outputEl, {childList: true});\n",
       "}}\n",
       "\n",
       "                        })\n",
       "                };\n",
       "                });\n",
       "            </script>\n",
       "        </div>"
      ]
     },
     "metadata": {},
     "output_type": "display_data"
    }
   ],
   "source": [
    "fig = px.scatter(pca_df, x=\"x\", y=\"y\", color=\"cluster\",\n",
    "                 hover_data=['word'],\n",
    "                 color_discrete_sequence=px.colors.qualitative.Dark24)\n",
    "fig.show()"
   ]
  },
  {
   "cell_type": "markdown",
   "metadata": {},
   "source": [
    "# Refactor"
   ]
  },
  {
   "cell_type": "code",
   "execution_count": null,
   "metadata": {},
   "outputs": [],
   "source": [
    "def get_text(url):\n",
    "    print('Downloading text')\n",
    "    r = requests.get(url)\n",
    "    if r.status_code != 200:\n",
    "        return('Status code: ' + str(r.status_code))\n",
    "    text = BeautifulSoup(r.content, 'html.parser').get_text()\n",
    "    return(text)\n",
    "\n",
    "def nlp_process(text):\n",
    "    print('Processing text')\n",
    "    nlp = spacy.load('en_core_web_md', \n",
    "        disable=['tagger', 'parser', 'ner']) # We only need tokeniser and the emdeddings\n",
    "    doc = nlp(text)\n",
    "    words = [w for w in doc if  w.is_stop != True and w.is_punct != True and w.text not in ['\\n', '\\n\\n' ]]\n",
    "    words_str = np.array([w.text for w in words])\n",
    "    words_vec = np.array([w.vector for w in words]) \n",
    "    return(words_str, words_vec)\n",
    "\n",
    "def clustering(X, n):\n",
    "    print('Clustering words')\n",
    "    # Handle words not in the vocab that have all zero word vector\n",
    "    zero_wv = X.sum(axis=1)==0.0\n",
    "    valid_vectors = X[zero_wv==False]\n",
    "    kmeans = KMeans(n_clusters=n).fit(valid_vectors)\n",
    "    centroids = kmeans.cluster_centers_\n",
    "    clusters = kmeans.predict(valid_vectors)\n",
    "    distances = []\n",
    "    for ix, v in enumerate(valid_vectors):\n",
    "        c = clusters[ix]\n",
    "        centroid = centroids[c]\n",
    "        distance = euclidean(v, centroid)\n",
    "        distances.append(distance)\n",
    "    # Fill in unkown words as their own cluster -1\n",
    "    all_clusters = np.full((len(zero_wv)),-1)\n",
    "    all_clusters[zero_wv==False] = clusters\n",
    "    all_distances = np.full((len(zero_wv)), 0.0)\n",
    "    all_distances[zero_wv==False] = distances\n",
    "    return(all_clusters, all_distances)\n",
    "\n",
    "def construct_df(url, n_clusters):\n",
    "    text = get_text(url)\n",
    "    words_str, words_vec = nlp_process(text)\n",
    "    clusters, distances = clustering(words_vec, n_clusters)\n",
    "    pca = PCA(n_components=2).fit_transform(words_vec)\n",
    "    print('Finalising output')\n",
    "    df = pd.DataFrame({\n",
    "        'word': words_str,\n",
    "        'cluster': clusters,\n",
    "        'distance_to_cluster_centroid': distances,\n",
    "        'pca_x': pca[:,0],\n",
    "        'pca_y': pca[:,1]\n",
    "        })\n",
    "    grp = df.groupby(['word','cluster', 'distance_to_cluster_centroid', 'pca_x', 'pca_y'])\n",
    "    agg = grp.size().reset_index(name='word_count').sort_values('word_count', ascending=False)\n",
    "    # re-order columns\n",
    "    agg = agg[['word', 'word_count', 'cluster', 'distance_to_cluster_centroid', 'pca_x', 'pca_y']]\n",
    "    return(agg)\n",
    "\n",
    "def cluster_plot(df, path):\n",
    "    df = df.sort_values('cluster')\n",
    "    df['cluster'] = df['cluster'].astype(str)\n",
    "    fig = px.scatter(df, x=\"pca_x\", y=\"pca_y\", color=\"cluster\",\n",
    "                 hover_data=['word', 'word_count'],\n",
    "                 color_discrete_sequence=px.colors.qualitative.Dark24)\n",
    "    fig.write_html(path + 'plot.html')\n"
   ]
  },
  {
   "cell_type": "code",
   "execution_count": null,
   "metadata": {},
   "outputs": [],
   "source": [
    "url = 'https://www.bbc.co.uk/news'\n",
    "n = 10\n",
    "path = 'output/'\n",
    "\n",
    "if path[-1] != '/':\n",
    "    path = path + '/'\n",
    "if os.path.exists(path) != True:\n",
    "    os.mkdir(path)\n",
    "\n",
    "df = construct_df(url, n)\n",
    "df.to_csv(path+'data.csv')\n",
    "cluster_plot(df, path)"
   ]
  }
 ],
 "metadata": {
  "kernelspec": {
   "display_name": "Python 3",
   "language": "python",
   "name": "python3"
  },
  "language_info": {
   "codemirror_mode": {
    "name": "ipython",
    "version": 3
   },
   "file_extension": ".py",
   "mimetype": "text/x-python",
   "name": "python",
   "nbconvert_exporter": "python",
   "pygments_lexer": "ipython3",
   "version": "3.7.7"
  }
 },
 "nbformat": 4,
 "nbformat_minor": 4
}
